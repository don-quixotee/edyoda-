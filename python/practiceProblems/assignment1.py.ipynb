{
 "cells": [
  {
   "cell_type": "code",
   "execution_count": 14,
   "metadata": {},
   "outputs": [
    {
     "name": "stdout",
     "output_type": "stream",
     "text": [
      "enter breadth5\n",
      "enter length7\n",
      "its  a rectangle with area: 35\n"
     ]
    }
   ],
   "source": [
    "\n",
    "def rectangle( length , breadth):\n",
    "    area=length*breadth\n",
    "    if area==breadth**2:\n",
    "            print(\"its a square with arear:\",area)\n",
    "    else:\n",
    "            print(\"its  a rectangle with area:\",area)\n",
    "            \n",
    "            \n",
    "breadth=int(input(\"enter breadth\"))\n",
    "length=int(input(\"enter length\"))\n",
    "\n",
    "rectangle(breadth,length)\n",
    "            "
   ]
  },
  {
   "cell_type": "code",
   "execution_count": null,
   "metadata": {},
   "outputs": [],
   "source": [
    "\n",
    "#\"\"\"2. Write a Python program which accepts the radius of a circle\n",
    "# from the user and compute the area.\n",
    "# \"\"\""
   ]
  },
  {
   "cell_type": "code",
   "execution_count": 19,
   "metadata": {},
   "outputs": [
    {
     "name": "stdout",
     "output_type": "stream",
     "text": [
      "enter radius4\n",
      "area of circle is: 50.285714285714285\n"
     ]
    }
   ],
   "source": [
    "def circle(radi):\n",
    "     area_circle=22/7*(radi**2)\n",
    "     print(\"area of circle is:\",area_circle)\n",
    " \n",
    "radi=int(input(\"enter radius\"))\n",
    "\n",
    "circle(radi)    \n",
    "\n"
   ]
  },
  {
   "cell_type": "code",
   "execution_count": null,
   "metadata": {},
   "outputs": [],
   "source": [
    "    \n",
    " #Write a Python program that accepts an integer (n) and computes\n",
    " #the value of( n+nn+nnn.)\n",
    " #Sample value of n is 5Expected Result : 615 "
   ]
  },
  {
   "cell_type": "code",
   "execution_count": 18,
   "metadata": {},
   "outputs": [
    {
     "name": "stdout",
     "output_type": "stream",
     "text": [
      "enetr the value of n5\n",
      "615\n"
     ]
    }
   ],
   "source": [
    "def question3(n):\n",
    "    print(n+int(f'{n}{n}')+int(f'{n}{n}{n}'))\n",
    "    \n",
    "n=int(input(\"enetr the value of n\"))\n",
    "question3(n)"
   ]
  },
  {
   "cell_type": "code",
   "execution_count": null,
   "metadata": {},
   "outputs": [],
   "source": [
    "# A company decided to deduct pf of 12% of salary if year of servic\n",
    "# is less than 5 year and 24% employee if his/her year of service \n",
    "#is more than 5 years.Ask user for their salary and year of service\n",
    "# and print the net in-hand salary after pf deduction.\n"
   ]
  },
  {
   "cell_type": "code",
   "execution_count": 17,
   "metadata": {},
   "outputs": [
    {
     "name": "stdout",
     "output_type": "stream",
     "text": [
      "enter your year of service6\n",
      "enter your salary400000\n",
      "in hand salary is : 304000.0\n"
     ]
    }
   ],
   "source": [
    "def pf(t ,salary):\n",
    "    if t>5:\n",
    "        in_hand_salary = salary-((salary/100 )*24)\n",
    "        print(\"in hand salary is :\",in_hand_salary)\n",
    "    else:\n",
    "        in_hand_salary=salary-((salary/100 )*12)\n",
    "        print(\"in hand salary is :\",in_hand_salary)\n",
    "        \n",
    "year_of_service=int(input(\"enter your year of service\"))\n",
    "salary=int(input(\"enter your salary\"))\n",
    "\n",
    "pf(year_of_service,salary)"
   ]
  },
  {
   "cell_type": "code",
   "execution_count": null,
   "metadata": {},
   "outputs": [],
   "source": [
    "#(5. A school has following rules for grading system:\n",
    "##    a. Below 40 - F\n",
    "#    b. 40 to 50 - C\n",
    " #   c. 50 to 60 - C+\n",
    "  #  d. 60 to 70 - B\n",
    "   # e. 70 to 80 - B+\n",
    "   # f. 80 to 90 - A\n",
    "   # g. Above 90 - A+\n",
    "#Ask user to enter marks for their 5 main subject and print\n",
    "#the corresponding grade and overall grade for average of marks.)"
   ]
  },
  {
   "cell_type": "code",
   "execution_count": 16,
   "metadata": {},
   "outputs": [
    {
     "name": "stdout",
     "output_type": "stream",
     "text": [
      "enter mark50\n",
      "enter mark90\n",
      "enter mark98\n",
      "enter mark77\n",
      "enter mark46\n",
      "you got a B+\n"
     ]
    }
   ],
   "source": [
    "def grades(n,list):\n",
    "    average_mark=sum(list)/n \n",
    "    if average_mark<40:\n",
    "        print(\"you got an F\")\n",
    "    elif average_mark>=40 and average_mark<50:\n",
    "        print(\"you got a c\")\n",
    "    elif average_mark>=50 and average_mark<60:\n",
    "        print(\"you got a c+\")\n",
    "    elif average_mark>=60 and average_mark<70:\n",
    "        print(\"you got a B\")\n",
    "    elif average_mark>=70 and average_mark<80:\n",
    "        print(\"you got a B+\")\n",
    "    elif average_mark>=80 and average_mark<90:\n",
    "        print(\"you got an A\")\n",
    "    else:\n",
    "        print(\"you got an A+\")\n",
    "\n",
    "\n",
    "subjects=5\n",
    "list=[]\n",
    "for i in range(0,subjects):\n",
    "    marks=int(input(\"enter mark\"))\n",
    "    list.append(marks)\n",
    "grades(subjects,list)"
   ]
  },
  {
   "cell_type": "code",
   "execution_count": null,
   "metadata": {},
   "outputs": [],
   "source": [
    "\n",
    "#A student will not be allowed to sit in exam if his/her attendence is less than 75%.\n",
    "#take the following iput from the user\n",
    "#  Number of classes held\n",
    "# Number of classes attended.\n",
    "#and print\n",
    "#  percentage of class attended\n",
    "# Is student is allowed to sit in exam or not.\n",
    "\n",
    "\n",
    "#Modify the above question to allow student to sit if he/she has medical cause reduce\n",
    "# attendance criteria to 60%. Ask user if he/she has medical cause or not ( 'Y' or 'N' )\n",
    "# and print accordingly."
   ]
  },
  {
   "cell_type": "code",
   "execution_count": 20,
   "metadata": {},
   "outputs": [
    {
     "name": "stdout",
     "output_type": "stream",
     "text": [
      "entyer the total number of classes 800\n",
      "enter the total number of class attended700\n",
      "you are allowed to sit in exam \n"
     ]
    }
   ],
   "source": [
    "\n",
    "def attendance(tC,aC):\n",
    "    perClass=(aC/tC)*100\n",
    "    if perClass>=75:\n",
    "        print(\"you are allowed to sit in exam \")\n",
    "        \n",
    "    else:\n",
    "        print(\"you are not allowed in the exam\")\n",
    "        \n",
    "        char=input(\"press  y if you have medical N if you dont have\")\n",
    "        if char=='y' and perClass>=60:\n",
    "            print(\"you are allowed\")\n",
    "        else:\n",
    "            print(\"bad lulck your attendance is less than 60 \")\n",
    "        \n",
    "\n",
    "        \n",
    "    \n",
    "\n",
    "totalClasses=int(input(\"entyer the total number of classes \"))\n",
    "attendedClasses=int(input(\"enter the total number of class attended\"))\n",
    "attendance(totalClasses,attendedClasses)"
   ]
  },
  {
   "cell_type": "code",
   "execution_count": null,
   "metadata": {},
   "outputs": [],
   "source": [
    " #  If a year is divisible by 4 then it is leap year but if the\n",
    "# year is century year like 2000, 1900, 2100 then it must be divisible by 400.\n",
    " \n"
   ]
  },
  {
   "cell_type": "code",
   "execution_count": 15,
   "metadata": {},
   "outputs": [
    {
     "name": "stdout",
     "output_type": "stream",
     "text": [
      "Please Enter the Year Number you wish: 34000\n",
      "it is a Leap Year 34000\n"
     ]
    }
   ],
   "source": [
    "def leapyear(year):\n",
    "    if (( year%400 == 0)or (( year%4 == 0 ) and ( year%100 != 0))):\n",
    "        print(\"it is a Leap Year\" , year)\n",
    "    else:\n",
    "        print(\"it is Not the Leap Year\" , year)\n",
    "    \n",
    "\n",
    "year = int(input(\"Please Enter the Year Number you wish: \"))\n",
    "leapyear(year)\n"
   ]
  },
  {
   "cell_type": "code",
   "execution_count": null,
   "metadata": {},
   "outputs": [],
   "source": [
    "#\n",
    "# Ask user to enter age, gender ( M or F ), marital status ( Y or N ) and then using following rules print their place of service.\n",
    "#if employee is female, then she will work only in urban areas.#\n",
    "#if employee is a male and age is in between 20 to 30 and not married then he may work in anywhere.\n",
    "#if employee is a female and age is in between 20 to 30 and not married then she may work in urban areas.\n",
    "#if employee is male and age is in between 20 t0 30 and married then he will work in nearby Hometown.\n",
    "#if employee is female and age is in between 20 t0 30 and married then she will work in her husband's city.\n",
    "#and any other input of age should print \"ERROR\"."
   ]
  },
  {
   "cell_type": "code",
   "execution_count": 15,
   "metadata": {},
   "outputs": [
    {
     "name": "stdout",
     "output_type": "stream",
     "text": [
      "enter your age18\n",
      "enter M for male F for femalem\n",
      "inter Y if married N if single5\n",
      "wrong input ERROR\n"
     ]
    }
   ],
   "source": [
    "def employee(age,gen,ms):\n",
    "    if gen=='F' or gen=='f':\n",
    "        print(\"she will work only in urban areas\")\n",
    "        if(gen=='f' or gen=='F') and (age>=20 or age<30) and (ms=='n' or ms=='N'):\n",
    "            print(\"she may work in urban areas.\")\n",
    "    elif(gen=='m' or gen=='M') and (age>=20 or age<30) and (ms=='n' or ms=='N'):\n",
    "        print(\"he may work in anywhere.\")\n",
    "    elif(gen=='M' or gen=='m') and (age>=20 or age<30) and (ms=='y' or ms=='Y'):\n",
    "        print(\"he will work nearby\")\n",
    "    elif(gen=='F' or gen=='f') and (age>=20 or age<30) and (ms=='y' or ms=='Y'):\n",
    "         print(\"she will work in her husbands city\")\n",
    "    else:\n",
    "        print(\"wrong input ERROR\")\n",
    "\n",
    "    \n",
    "        \n",
    "\n",
    "age=int(input(\"enter your age\"))\n",
    "gender=input(\"enter M for male F for female\")\n",
    "marital_status=input(\"inter Y if married N if single\")\n",
    "employee(age,gender,marital_status)"
   ]
  },
  {
   "cell_type": "code",
   "execution_count": null,
   "metadata": {},
   "outputs": [],
   "source": [
    "#10. A 4 digit number is entered through keyboard. Write a program to print a new number with digits reversed as of orignal one. E.g.-\n",
    "#INPUT : 1234        OUTPUT : 4321\n",
    "#INPUT : 5982        OUTPUT : 2895\n",
    "#NOTE:- Do not use builtin functions e.g. sort(), reverse() and loop try to solve it by if-else\n",
    "\n",
    "#11Write a program to find sum of digits of given number by user answer should be of single digit.\n",
    "#    Example: input: 25643\n",
    " #   sum of digits of 2+5+6+4+3 = 20\n",
    "  #  again find sum of digits of 20 and final answer would be 2+0 = 2"
   ]
  },
  {
   "cell_type": "code",
   "execution_count": 16,
   "metadata": {},
   "outputs": [
    {
     "name": "stdout",
     "output_type": "stream",
     "text": [
      "Enter A  4 digit number:67890\n",
      "invalid input please enter a number less than 10000\n",
      "Reverse:  767654978756\n"
     ]
    }
   ],
   "source": [
    " \n",
    "n = int(input(\"Enter A  4 digit number:\"))\n",
    "\n",
    "if n<9999 :\n",
    "    if(n):\n",
    "        last_digit = n % 10\n",
    "        rev = rev * 10 + last_digit\n",
    "        n = n// 10\n",
    "    \n",
    "    if(n):\n",
    "        last_digit = n % 10\n",
    "        rev = rev * 10 + last_digit\n",
    "        n = n // 10\n",
    "        \n",
    "    if(n):\n",
    "        last_digit = n % 10\n",
    "        rev = rev * 10 + last_digit\n",
    "        n = n// 10\n",
    "    if(n):\n",
    "        last_digit = n % 10\n",
    "        rev = rev * 10 + last_digit\n",
    "        n = n // 10\n",
    "else:\n",
    "    print(\"invalid input please enter a number less than 10000\")\n",
    "\n",
    "print(\"Reverse: \", rev);"
   ]
  },
  {
   "cell_type": "code",
   "execution_count": 3,
   "metadata": {},
   "outputs": [
    {
     "name": "stdout",
     "output_type": "stream",
     "text": [
      "enter the numbert764\n"
     ]
    },
    {
     "ename": "ValueError",
     "evalue": "invalid literal for int() with base 10: 't764'",
     "output_type": "error",
     "traceback": [
      "\u001b[1;31m---------------------------------------------------------------------------\u001b[0m",
      "\u001b[1;31mValueError\u001b[0m                                Traceback (most recent call last)",
      "\u001b[1;32m<ipython-input-3-5e4dfa8198c5>\u001b[0m in \u001b[0;36m<module>\u001b[1;34m\u001b[0m\n\u001b[0;32m     13\u001b[0m     \u001b[1;32mreturn\u001b[0m \u001b[0msum\u001b[0m\u001b[1;33m\u001b[0m\u001b[1;33m\u001b[0m\u001b[0m\n\u001b[0;32m     14\u001b[0m \u001b[1;33m\u001b[0m\u001b[0m\n\u001b[1;32m---> 15\u001b[1;33m \u001b[0mnum\u001b[0m\u001b[1;33m=\u001b[0m\u001b[0mint\u001b[0m\u001b[1;33m(\u001b[0m\u001b[0minput\u001b[0m\u001b[1;33m(\u001b[0m\u001b[1;34m\"enter the number\"\u001b[0m\u001b[1;33m)\u001b[0m\u001b[1;33m)\u001b[0m\u001b[1;33m\u001b[0m\u001b[1;33m\u001b[0m\u001b[0m\n\u001b[0m\u001b[0;32m     16\u001b[0m \u001b[0mprint\u001b[0m \u001b[1;33m(\u001b[0m\u001b[0mdig_Sum\u001b[0m\u001b[1;33m(\u001b[0m\u001b[0mnum\u001b[0m\u001b[1;33m)\u001b[0m\u001b[1;33m)\u001b[0m\u001b[1;33m\u001b[0m\u001b[1;33m\u001b[0m\u001b[0m\n\u001b[0;32m     17\u001b[0m \u001b[1;33m\u001b[0m\u001b[0m\n",
      "\u001b[1;31mValueError\u001b[0m: invalid literal for int() with base 10: 't764'"
     ]
    }
   ],
   "source": [
    "def dig_Sum( n): \n",
    "    sum = 0\n",
    "      \n",
    "    while(n > 0 or sum > 9): \n",
    "      \n",
    "        if(n == 0): \n",
    "            n = sum\n",
    "            sum = 0\n",
    "          \n",
    "        sum += n % 10\n",
    "        n =n// 10\n",
    "      \n",
    "    return sum\n",
    "  \n",
    "num=int(input(\"enter the number\"))    \n",
    "print (dig_Sum(num)) \n",
    "  "
   ]
  },
  {
   "cell_type": "code",
   "execution_count": null,
   "metadata": {},
   "outputs": [],
   "source": [
    "#12. Write a Python program to find those numbers which are divisible by\n",
    "#7 and multiple of 5, between 1500 and 2700 (both included)."
   ]
  },
  {
   "cell_type": "code",
   "execution_count": 17,
   "metadata": {},
   "outputs": [
    {
     "name": "stdout",
     "output_type": "stream",
     "text": [
      "1505\n",
      "1540\n",
      "1575\n",
      "1610\n",
      "1645\n",
      "1680\n",
      "1715\n",
      "1750\n",
      "1785\n",
      "1820\n",
      "1855\n",
      "1890\n",
      "1925\n",
      "1960\n",
      "1995\n",
      "2030\n",
      "2065\n",
      "2100\n",
      "2135\n",
      "2170\n",
      "2205\n",
      "2240\n",
      "2275\n",
      "2310\n",
      "2345\n",
      "2380\n",
      "2415\n",
      "2450\n",
      "2485\n",
      "2520\n",
      "2555\n",
      "2590\n",
      "2625\n",
      "2660\n",
      "2695\n"
     ]
    }
   ],
   "source": [
    "for i in range(1500,2701):\n",
    "    if i%5==0 and i%7==0:\n",
    "        print(i)"
   ]
  },
  {
   "cell_type": "code",
   "execution_count": 10,
   "metadata": {},
   "outputs": [],
   "source": [
    "\n",
    "#13. A shop will give discount of 10% max upto 100rs if the cost of purchased quantity is more than 1000.\n",
    "#    Ask user for quantity\n",
    "#    Suppose, one unit will cost 100rs.\n",
    "#    Judge and print total cost for user.\n",
    "#  "
   ]
  },
  {
   "cell_type": "code",
   "execution_count": 12,
   "metadata": {},
   "outputs": [
    {
     "name": "stdout",
     "output_type": "stream",
     "text": [
      "Enter the number of units  purchased  20\n",
      "The final price is:  1900\n"
     ]
    }
   ],
   "source": [
    "total_qty = int(input(\"Enter the number of units  purchased  \"))\n",
    "\n",
    "total_price = total_qty * 100;\n",
    "if total_price > 1000:\n",
    "    discount =(total_price*10)/100\n",
    "    if discount > 100:\n",
    "        discount = 100\n",
    "else:\n",
    "    discount_obtained = 0\n",
    "    \n",
    "final_price = total_price - discount\n",
    "print(\"final price is: \", final_price)"
   ]
  },
  {
   "cell_type": "code",
   "execution_count": null,
   "metadata": {},
   "outputs": [],
   "source": [
    "#14. Write a Python program to calculate number of days between two dates."
   ]
  },
  {
   "cell_type": "code",
   "execution_count": null,
   "metadata": {},
   "outputs": [],
   "source": []
  },
  {
   "cell_type": "code",
   "execution_count": null,
   "metadata": {},
   "outputs": [],
   "source": [
    "#write a program to find the 2nd largest number in a list:\n"
   ]
  },
  {
   "cell_type": "code",
   "execution_count": 1,
   "metadata": {},
   "outputs": [
    {
     "name": "stdout",
     "output_type": "stream",
     "text": [
      "99\n"
     ]
    }
   ],
   "source": [
    "num=[100,5,99,5,54,11]\n",
    "first=0\n",
    "second=0\n",
    "\n",
    "n=len(num)\n",
    "for i in range(0,n):\n",
    "    if num[i]>first:\n",
    "        second=first\n",
    "        first=num[i]\n",
    "    elif num[i]>second and num[i]!=first:\n",
    "        second=num[i]\n",
    "        \n",
    "print(second)\n",
    "    "
   ]
  },
  {
   "cell_type": "code",
   "execution_count": null,
   "metadata": {},
   "outputs": [],
   "source": [
    "#pthron program to print table of 1-5"
   ]
  },
  {
   "cell_type": "code",
   "execution_count": 13,
   "metadata": {},
   "outputs": [
    {
     "name": "stdout",
     "output_type": "stream",
     "text": [
      "1\t\t2\t\t3\t\t4\t\t5\t\t\n",
      "\n",
      "2\t\t4\t\t6\t\t8\t\t10\t\t\n",
      "\n",
      "3\t\t6\t\t9\t\t12\t\t15\t\t\n",
      "\n",
      "4\t\t8\t\t12\t\t16\t\t20\t\t\n",
      "\n",
      "5\t\t10\t\t15\t\t20\t\t25\t\t\n",
      "\n",
      "6\t\t12\t\t18\t\t24\t\t30\t\t\n",
      "\n",
      "7\t\t14\t\t21\t\t28\t\t35\t\t\n",
      "\n",
      "8\t\t16\t\t24\t\t32\t\t40\t\t\n",
      "\n",
      "9\t\t18\t\t27\t\t36\t\t45\t\t\n",
      "\n",
      "10\t\t20\t\t30\t\t40\t\t50\t\t\n",
      "\n"
     ]
    }
   ],
   "source": [
    "for i in range(1,11):\n",
    "    for j in range(1,6):\n",
    "        table=i*j\n",
    "        print(table,end='\\t\\t')\n",
    "    print('\\n')"
   ]
  }
 ],
 "metadata": {
  "kernelspec": {
   "display_name": "Python 3",
   "language": "python",
   "name": "python3"
  },
  "language_info": {
   "codemirror_mode": {
    "name": "ipython",
    "version": 3
   },
   "file_extension": ".py",
   "mimetype": "text/x-python",
   "name": "python",
   "nbconvert_exporter": "python",
   "pygments_lexer": "ipython3",
   "version": "3.7.4"
  }
 },
 "nbformat": 4,
 "nbformat_minor": 2
}
