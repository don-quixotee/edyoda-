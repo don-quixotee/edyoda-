{
 "cells": [
  {
   "cell_type": "code",
   "execution_count": null,
   "metadata": {},
   "outputs": [],
   "source": [
    "#take 10 integers from keyboard using loop and print their average value on the screen"
   ]
  },
  {
   "cell_type": "code",
   "execution_count": 1,
   "metadata": {},
   "outputs": [
    {
     "name": "stdout",
     "output_type": "stream",
     "text": [
      "enter numer1\n",
      "enter numer2\n",
      "enter numer3\n",
      "enter numer4\n",
      "enter numer5\n",
      "enter numer6\n",
      "enter numer7\n",
      "enter numer8\n",
      "enter numer9\n",
      "enter numer1\n",
      "46\n"
     ]
    }
   ],
   "source": [
    "a=[]\n",
    "sum=0\n",
    "for i in range(1,11):\n",
    "    ele=int(input(\"enter numer\"))\n",
    "    a.append(ele)\n",
    "    sum=sum+ele\n",
    "print(sum)"
   ]
  },
  {
   "cell_type": "code",
   "execution_count": null,
   "metadata": {},
   "outputs": [],
   "source": [
    "#2. Print multiplication table of 24, 50 and 29 using loop."
   ]
  },
  {
   "cell_type": "code",
   "execution_count": 26,
   "metadata": {},
   "outputs": [
    {
     "name": "stdout",
     "output_type": "stream",
     "text": [
      "24\t50\t29\n",
      "48\t100\t58\n",
      "72\t150\t87\n",
      "96\t200\t116\n",
      "120\t250\t145\n",
      "144\t300\t174\n",
      "168\t350\t203\n",
      "192\t400\t232\n",
      "216\t450\t261\n",
      "240\t500\t290\n"
     ]
    }
   ],
   "source": [
    "a=24\n",
    "b=50\n",
    "c=29\n",
    "for i in range(1,11):\n",
    "  \n",
    "    print(a*i,end='\\t')\n",
    "    print(b*i,end='\\t')\n",
    "    print(c*i,)\n",
    "    \n",
    "\n",
    "    \n"
   ]
  },
  {
   "cell_type": "code",
   "execution_count": null,
   "metadata": {},
   "outputs": [],
   "source": [
    "#3. Take integer inputs from user until user presses q ( Ask to press q to quit after every integer input ).\n",
    "#Print average and product of all numbers."
   ]
  },
  {
   "cell_type": "code",
   "execution_count": 5,
   "metadata": {},
   "outputs": [
    {
     "name": "stdout",
     "output_type": "stream",
     "text": [
      "enter a number\n",
      "5\n",
      "Press q when you are done else press Y to continue \n",
      "y\n",
      "enter a number\n",
      "5\n",
      "Press q when you are done else press Y to continue \n",
      "y\n",
      "enter a number\n",
      "2\n",
      "Press q when you are done else press Y to continue \n",
      "q\n",
      "Average 4.0\n",
      "product 50\n"
     ]
    }
   ],
   "source": [
    "sum=0\n",
    "count=0\n",
    "product_num=1\n",
    "while 1:\n",
    "    print(\"enter a number\")\n",
    "\n",
    "    num=int(input())\n",
    "    count=count+1\n",
    "    sum=sum+num\n",
    "    product_num=product_num * num\n",
    "    print(\"Press q when you are done else press Y to continue \")\n",
    "    m=input()\n",
    "    if m=='q' or m=='Q':\n",
    "        break\n",
    "    else:\n",
    "        \n",
    "        continue\n",
    "    \n",
    "print(\"Average\",sum/count)\n",
    "print(\"product\",product_num)"
   ]
  },
  {
   "cell_type": "code",
   "execution_count": null,
   "metadata": {},
   "outputs": [],
   "source": [
    "#4. A three digit number is called Armstrong number if sum of cube of its digit is equal to number itself.\n",
    "#E.g.- 153 is an Armstrong number because (1)+(125)+(27) = 153.\n",
    "#Write all Armstrong numbers between 100 to 500."
   ]
  },
  {
   "cell_type": "code",
   "execution_count": 38,
   "metadata": {},
   "outputs": [
    {
     "name": "stdout",
     "output_type": "stream",
     "text": [
      "125\n",
      "153\n",
      "216\n",
      "370\n",
      "371\n",
      "407\n"
     ]
    }
   ],
   "source": [
    "for n in range(100, 501):\n",
    "    sum = 0\n",
    "    t = n\n",
    "    while t > 0:\n",
    "        r= t % 10\n",
    "        sum += r ** 3\n",
    "        t //= 10\n",
    "        if n == sum:\n",
    "            print(n)\n",
    "    \n",
    "        \n",
    "\n",
    "    "
   ]
  },
  {
   "cell_type": "code",
   "execution_count": null,
   "metadata": {},
   "outputs": [],
   "source": [
    "#5. Write a Python program which iterates the integers from 1 to 50.\n",
    "#For multiples of three print \"Fizz\" instead of the number and for the multiples\n",
    "#of five print \"Buzz\". For numbers which are multiples of both three and five print \"FizzBuzz\".\n",
    "#Sample Output :\n",
    "#fizzbuzz\n",
    "#1\n",
    "#2\n",
    "#fizz\n",
    "#4\n",
    "#buzz"
   ]
  },
  {
   "cell_type": "code",
   "execution_count": 39,
   "metadata": {},
   "outputs": [
    {
     "name": "stdout",
     "output_type": "stream",
     "text": [
      "1\n",
      "2\n",
      "Fizz\n",
      "4\n",
      "Buzz\n",
      "Fizz\n",
      "7\n",
      "8\n",
      "Fizz\n",
      "Buzz\n",
      "11\n",
      "Fizz\n",
      "13\n",
      "14\n",
      "Fizzbuzz\n",
      "16\n",
      "17\n",
      "Fizz\n",
      "19\n",
      "Buzz\n",
      "Fizz\n",
      "22\n",
      "23\n",
      "Fizz\n",
      "Buzz\n",
      "26\n",
      "Fizz\n",
      "28\n",
      "29\n",
      "Fizzbuzz\n",
      "31\n",
      "32\n",
      "Fizz\n",
      "34\n",
      "Buzz\n",
      "Fizz\n",
      "37\n",
      "38\n",
      "Fizz\n",
      "Buzz\n",
      "41\n",
      "Fizz\n",
      "43\n",
      "44\n",
      "Fizzbuzz\n",
      "46\n",
      "47\n",
      "Fizz\n",
      "49\n",
      "Buzz\n"
     ]
    }
   ],
   "source": [
    "for i in range(1,51):\n",
    "    if i%3==0 and i%5==0:\n",
    "        print(\"Fizzbuzz\")\n",
    "    elif i%3==0:\n",
    "        print(\"Fizz\")\n",
    "    elif i%5==0:\n",
    "        print(\"Buzz\")\n",
    "        \n",
    "    else:\n",
    "        print(i)"
   ]
  },
  {
   "cell_type": "code",
   "execution_count": null,
   "metadata": {},
   "outputs": [],
   "source": [
    "# Write a program to find greatest common divisor (GCD)\n",
    "#or highest common factor (HCF) of given two numbers."
   ]
  },
  {
   "cell_type": "code",
   "execution_count": 54,
   "metadata": {},
   "outputs": [
    {
     "name": "stdout",
     "output_type": "stream",
     "text": [
      "enter the first number12\n",
      "enter the second number6\n",
      "gcd of the numbers is: 6\n"
     ]
    }
   ],
   "source": [
    "def gcd(a,b):\n",
    "    if a<b:\n",
    "        (a,b)=(b,a)\n",
    "        \n",
    "    if (a%b)==0:\n",
    "        return(b)\n",
    "    else:\n",
    "        diff=m-n\n",
    "        return(gcd(max(n,diff),min(n,diff)))\n",
    "num1=int(input(\"enter the first number\"))\n",
    "num2=int(input(\"enter the second number\"))\n",
    "print(\"gcd of the numbers is:\",gcd(num1,num2))\n",
    "\n",
    "     "
   ]
  },
  {
   "cell_type": "code",
   "execution_count": null,
   "metadata": {},
   "outputs": [],
   "source": [
    "#7. Write a Python program to find numbers between 100 and 400\n",
    "#(both included) where each digit of a number is an even number. \n",
    "#The numbers obtained should be printed in a \n",
    "#comma-separated sequence."
   ]
  },
  {
   "cell_type": "code",
   "execution_count": 64,
   "metadata": {},
   "outputs": [
    {
     "name": "stdout",
     "output_type": "stream",
     "text": [
      "200,202,204,206,208,220,222,224,226,228,240,242,244,246,248,260,262,264,266,268,280,282,284,286,288,400\n"
     ]
    }
   ],
   "source": [
    "num=[]\n",
    "for i in range(100, 401):\n",
    "    digit = str(i)\n",
    "    if (int(digit[0])%2==0) and (int(digit[1])%2==0) and (int(digit[2])%2==0):\n",
    "        num.append(digit)\n",
    "print( \",\".join(num))\n",
    "        "
   ]
  },
  {
   "cell_type": "code",
   "execution_count": 72,
   "metadata": {},
   "outputs": [],
   "source": [
    "#8.  Write a Python program which takes two digits m (row) and n (column) \n",
    "#as input and generates a two-dimensional array. The element value in the\n",
    "#i-th row and j-th column of the array should be 2*(i+j).\n",
    "#Note :\n",
    "#i = 0,1.., m-1\n",
    "#j = 0,1, n-1.\n",
    "\n",
    "#Test Data : Rows = 3, Columns = 4\n",
    "#Expected Result : [[0, 2, 4, 6], [2, 4, 6, 8], [6, 8, 10, 12]"
   ]
  },
  {
   "cell_type": "code",
   "execution_count": 27,
   "metadata": {},
   "outputs": [
    {
     "name": "stdout",
     "output_type": "stream",
     "text": [
      "Enter number of rows:3\n",
      "Enter number of columns:4\n",
      "0 2 4 6 \n",
      "2 4 6 8 \n",
      "4 6 8 10 \n"
     ]
    }
   ],
   "source": [
    "Row = int(input(\"Enter number of rows:\"))\n",
    "Col = int(input(\"Enter number of columns:\")) \n",
    "a=[] \n",
    "for i in range(Row):\n",
    "    b =[]\n",
    "    for j in range(Col):\n",
    "        b.append(2*(i+j))\n",
    "    a.append(b)\n",
    "    \n",
    "for i in range(Row):\n",
    "    for j in range(Col):\n",
    "        print(a[i][j], end = \" \")\n",
    "        \n",
    "    print() \n"
   ]
  },
  {
   "cell_type": "code",
   "execution_count": null,
   "metadata": {},
   "outputs": [],
   "source": [
    "#9. Write a program to find prime factor of a number.\n",
    "#If a factor of a number is prime number then it is its prime factor."
   ]
  },
  {
   "cell_type": "code",
   "execution_count": 5,
   "metadata": {},
   "outputs": [
    {
     "name": "stdout",
     "output_type": "stream",
     "text": [
      "enter the number:77\n",
      "7 is a prime factor\n",
      "11 is a prime factor\n"
     ]
    }
   ],
   "source": [
    "num =int(input(\"enter the number:\"))\n",
    "for i in range(1,num):\n",
    "    if num%i==0:\n",
    "        if i > 1:\n",
    "            for x in range(2, i//2):\n",
    "                if (i % x) == 0:\n",
    "                    print(i, \"is not a prime factor\") \n",
    "                    break\n",
    "            else:\n",
    "                print(i, \"is a prime factor\")\n",
    "        \n",
    "  \n",
    "                \n",
    "           \n",
    "\n",
    "\n",
    "\n",
    "        \n",
    "           \n"
   ]
  },
  {
   "cell_type": "code",
   "execution_count": null,
   "metadata": {},
   "outputs": [],
   "source": [
    "#10. Write a Python program to get the Fibonacci series. length of series should taken by user.\n",
    "#Note : The Fibonacci Sequence is the series of numbers :\n",
    "#0, 1, 1, 2, 3, 5, 8, 13, 21, ....\n",
    "#Every next number is found by adding up the two numbers before it.\n",
    "#Expected Output : 1 1 2 3 5 8 13 21 34."
   ]
  },
  {
   "cell_type": "code",
   "execution_count": 8,
   "metadata": {},
   "outputs": [
    {
     "name": "stdout",
     "output_type": "stream",
     "text": [
      "enter the length of the series 10\n",
      "Fibonacci sequence:\n",
      "0\n",
      "1\n",
      "1\n",
      "2\n",
      "3\n",
      "5\n",
      "8\n",
      "13\n",
      "21\n",
      "34\n"
     ]
    }
   ],
   "source": [
    "num = int(input(\"enter the length of the series \"))\n",
    "n1, n2 = 0, 1\n",
    "count = 0\n",
    "if num <= 0:\n",
    "   print(\"Please enter a  number>0\")\n",
    "elif num == 1:\n",
    "   print(\"Fibonacci sequence upto length\",num,\":\", n1)\n",
    "else:\n",
    "   print(\"Fibonacci sequence:\")\n",
    "   while count < num:\n",
    "       print(n1)\n",
    "       nth = n1 + n2\n",
    "       n1 = n2\n",
    "       n2 = nth\n",
    "       count += 1"
   ]
  },
  {
   "cell_type": "code",
   "execution_count": 10,
   "metadata": {},
   "outputs": [],
   "source": [
    "#11. A 4 digit number is entered through keyboard. Write a program to print a new number \n",
    "#with digits reversed as of orignal one. E.g.-\n",
    "#INPUT : 1234        OUTPUT : 4321\n",
    "##NOTE:- Can not use buil-in function e.g. sort(), reverse() use loops here"
   ]
  },
  {
   "cell_type": "code",
   "execution_count": 13,
   "metadata": {},
   "outputs": [
    {
     "name": "stdout",
     "output_type": "stream",
     "text": [
      "Enter the nummber to be reversed:1234\n",
      "4321\n"
     ]
    }
   ],
   "source": [
    "num=int(input(\"Enter the nummber to be reversed:\"))\n",
    "reverse_dig=0\n",
    "while num>0:\n",
    "    rem=num%10\n",
    "    reverse_dig=reverse_dig*10+rem\n",
    "    num=num//10\n",
    "print(reverse_dig)\n",
    "\n"
   ]
  },
  {
   "cell_type": "code",
   "execution_count": null,
   "metadata": {},
   "outputs": [],
   "source": [
    "#12Write a program to find sum of digits of given number by user answer should be of single digit.\n",
    "#Example: input: 25643\n",
    " #        sum of digits of 2+5+6+4+3 = 20\n",
    "  #       again find sum of digits of 20 and final answer would be 2+0 = 2"
   ]
  },
  {
   "cell_type": "code",
   "execution_count": 1,
   "metadata": {},
   "outputs": [
    {
     "name": "stdout",
     "output_type": "stream",
     "text": [
      "enter the number4352\n",
      "5\n"
     ]
    }
   ],
   "source": [
    "def dig_Sum( n): \n",
    "    sum = 0\n",
    "      \n",
    "    while(n > 0 or sum > 9): \n",
    "      \n",
    "        if(n == 0): \n",
    "            n = sum\n",
    "            sum = 0\n",
    "          \n",
    "        sum += n % 10\n",
    "        n =n// 10\n",
    "      \n",
    "    return sum\n",
    "  \n",
    "num=int(input(\"enter the number\"))    \n",
    "print (dig_Sum(num)) "
   ]
  },
  {
   "cell_type": "code",
   "execution_count": null,
   "metadata": {},
   "outputs": [],
   "source": [
    "# 13. Write a Python program to construct the following pattern, using a nested for loop.\n",
    "#   * \n",
    "#   * * \n",
    "#   * * * \n",
    "#   * * * * \n",
    "#   * * * * * \n",
    "#   * * * * \n",
    "#   * * * \n",
    "#   * * \n",
    "#   *"
   ]
  },
  {
   "cell_type": "code",
   "execution_count": 8,
   "metadata": {},
   "outputs": [
    {
     "name": "stdout",
     "output_type": "stream",
     "text": [
      "\n",
      "* \n",
      "* * \n",
      "* * * \n",
      "* * * * \n",
      "* * * * * \n",
      "* * * * \n",
      "* * * \n",
      "* * \n",
      "* \n"
     ]
    }
   ],
   "source": [
    "\n",
    "for i in range(5):\n",
    "    for j in range(i):\n",
    "        print ('* ', end=\"\")\n",
    "    print('')\n",
    "\n",
    "for i in range(5,0,-1):\n",
    "    for j in range(i):\n",
    "        print('* ', end=\"\")\n",
    "    print('')"
   ]
  },
  {
   "cell_type": "code",
   "execution_count": 10,
   "metadata": {},
   "outputs": [],
   "source": [
    "#15. Write a Python program to construct the following pattern, using a nested loop number.\n",
    "#Expected Output:\n",
    "\n",
    "# 1\n",
    "# 22\n",
    "# 333\n",
    "# 4444\n",
    "# 55555\n",
    "# 666666\n",
    "# 7777777\n",
    "# 88888888\n",
    "# 999999999\n"
   ]
  },
  {
   "cell_type": "code",
   "execution_count": 29,
   "metadata": {},
   "outputs": [
    {
     "name": "stdout",
     "output_type": "stream",
     "text": [
      "1\n",
      "22\n",
      "333\n",
      "4444\n",
      "55555\n",
      "666666\n",
      "7777777\n",
      "88888888\n",
      "999999999\n"
     ]
    }
   ],
   "source": [
    "for  i  in range(1,10):\n",
    "    print(str(i)*i)\n",
    "    \n",
    "    \n",
    "  \n",
    "        "
   ]
  },
  {
   "cell_type": "code",
   "execution_count": null,
   "metadata": {},
   "outputs": [],
   "source": [
    "#16. Write a Python program to construct the following pattern, using a nested loop number.\n",
    "E#xpected Output:#\n",
    "#\n",
    "#    * \n",
    "#   * * \n",
    "#  * * * \n",
    "# * * * * \n",
    "#* * * * *"
   ]
  },
  {
   "cell_type": "code",
   "execution_count": 1,
   "metadata": {},
   "outputs": [
    {
     "name": "stdout",
     "output_type": "stream",
     "text": [
      "    * \n",
      "   * * \n",
      "  * * * \n",
      " * * * * \n",
      "* * * * * \n"
     ]
    }
   ],
   "source": [
    "n=5\n",
    "row=0\n",
    "while row<n:\n",
    "    space=n-row-1  \n",
    "    while space>0:\n",
    "        print(end=\" \")\n",
    "        space=space-1\n",
    "    star=row+1\n",
    "    while star>0:\n",
    "        print(\"*\",end=\" \")\n",
    "        star=star-1\n",
    "    row=row+1\n",
    "    print()"
   ]
  },
  {
   "cell_type": "code",
   "execution_count": 3,
   "metadata": {},
   "outputs": [
    {
     "name": "stdout",
     "output_type": "stream",
     "text": [
      "         *\n",
      "        ***\n",
      "       *****\n",
      "      *******\n",
      "     *********\n"
     ]
    }
   ],
   "source": [
    "#2nd approach\n",
    "#on observing the pattern\n",
    "j=9\n",
    "for i in range(1,10,2):\n",
    "    print(' ' *j+i*'*')\n",
    "    j=j-1"
   ]
  },
  {
   "cell_type": "code",
   "execution_count": null,
   "metadata": {},
   "outputs": [],
   "source": [
    "#14. Write a Python program to print alphabet pattern 'A'.\n",
    "#  ***                                                                   \n",
    "# *   *                                                                  \n",
    "# *   *                                                                  \n",
    "# *****                                                                  \n",
    "# *   *                                                                  \n",
    "# *   *                                                                  \n",
    "# *   *"
   ]
  },
  {
   "cell_type": "code",
   "execution_count": 17,
   "metadata": {},
   "outputs": [
    {
     "name": "stdout",
     "output_type": "stream",
     "text": [
      "  * * *   \n",
      "*       * \n",
      "*       * \n",
      "* * * * * \n",
      "*       * \n",
      "*       * \n",
      "*       * \n"
     ]
    }
   ],
   "source": [
    "for row in range(7):\n",
    "    for col in range(5):\n",
    "        if((col==0 or col==4) and row!=0) or((row==0 or row==3)and (col>0 and col<4)):\n",
    "            print(\"*\",end= \" \")\n",
    "        else:\n",
    "            print(\" \",end= \" \")\n",
    "            \n",
    "    print()"
   ]
  }
 ],
 "metadata": {
  "kernelspec": {
   "display_name": "Python 3",
   "language": "python",
   "name": "python3"
  },
  "language_info": {
   "codemirror_mode": {
    "name": "ipython",
    "version": 3
   },
   "file_extension": ".py",
   "mimetype": "text/x-python",
   "name": "python",
   "nbconvert_exporter": "python",
   "pygments_lexer": "ipython3",
   "version": "3.7.4"
  }
 },
 "nbformat": 4,
 "nbformat_minor": 2
}
