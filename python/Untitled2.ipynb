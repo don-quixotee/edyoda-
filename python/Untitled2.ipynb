{
 "cells": [
  {
   "cell_type": "code",
   "execution_count": 4,
   "metadata": {},
   "outputs": [
    {
     "name": "stdout",
     "output_type": "stream",
     "text": [
      "0\n"
     ]
    }
   ],
   "source": [
    "for i  in range(1):\n",
    "    print(i)"
   ]
  },
  {
   "cell_type": "code",
   "execution_count": 2,
   "metadata": {},
   "outputs": [
    {
     "name": "stdout",
     "output_type": "stream",
     "text": [
      "[1, 4, 6, 7, 9, 11]\n"
     ]
    }
   ],
   "source": [
    "a=[1,9,11,6,7,4]\n",
    "a=sorted(a)\n",
    "print(a)"
   ]
  },
  {
   "cell_type": "code",
   "execution_count": null,
   "metadata": {},
   "outputs": [
    {
     "name": "stdout",
     "output_type": "stream",
     "text": [
      "[1, 4, 6, 7, 9, 11]\n"
     ]
    }
   ],
   "source": [
    "a=[1,9,11,6,7,4]\n",
    "a=sorted(a)\n",
    "print(a)\n",
    "l=[]\n",
    "for i ,j in zip(a,a[1:]):\n",
    "    l.append(i)\n",
    "    if i-j==0:\n",
    "        break\n",
    "    else:\n",
    "        while i-j!=0:\n",
    "            l.append(i+1)\n",
    "print(l)\n",
    "            \n",
    "            "
   ]
  },
  {
   "cell_type": "code",
   "execution_count": null,
   "metadata": {},
   "outputs": [],
   "source": [
    "a=[1,9,11,6,7,4]\n",
    "a=sorted(a)\n",
    "print(a)\n",
    "l=[]\n",
    "for i ,j in zip(a,a[1:]):\n",
    "    l.append(i)\n",
    "    if i-j==0:\n",
    "        break\n",
    "    else:\n",
    "        while i-j!=0:\n",
    "            l.append(i+1)\n",
    "print(l)\n",
    "            \n",
    "           "
   ]
  },
  {
   "cell_type": "code",
   "execution_count": 4,
   "metadata": {},
   "outputs": [
    {
     "name": "stdout",
     "output_type": "stream",
     "text": [
      "[1, 4, 6, 7, 9, 11]\n",
      "[1, 2, 3, 4, 5, 6, 7, 8, 9, 10, 11]\n"
     ]
    }
   ],
   "source": [
    "a=[1,9,11,6,7,4]\n",
    "a=sorted(a)\n",
    "print(a)\n",
    "l=[]\n",
    "for i in range(a[0],a[-1]+1):\n",
    "    l.append(i)\n",
    "    \n",
    "print(l)"
   ]
  },
  {
   "cell_type": "code",
   "execution_count": null,
   "metadata": {},
   "outputs": [],
   "source": [
    "a=[1,9,11,6,7,4]\n"
   ]
  }
 ],
 "metadata": {
  "kernelspec": {
   "display_name": "Python 3",
   "language": "python",
   "name": "python3"
  },
  "language_info": {
   "codemirror_mode": {
    "name": "ipython",
    "version": 3
   },
   "file_extension": ".py",
   "mimetype": "text/x-python",
   "name": "python",
   "nbconvert_exporter": "python",
   "pygments_lexer": "ipython3",
   "version": "3.7.4"
  }
 },
 "nbformat": 4,
 "nbformat_minor": 2
}
