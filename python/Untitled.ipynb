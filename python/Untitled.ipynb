{
 "cells": [
  {
   "cell_type": "code",
   "execution_count": 14,
   "metadata": {},
   "outputs": [
    {
     "name": "stdout",
     "output_type": "stream",
     "text": [
      "<list_iterator object at 0x7f06d56f2190>\n",
      "10\n",
      "20\n",
      "30\n",
      "[40, 50, 60]\n",
      "[10, 20, 30, 40, 50, 60]\n"
     ]
    }
   ],
   "source": [
    "l=[10,20,30,40,50,60]\n",
    "i=iter(l)\n",
    "print(i)\n",
    "print(next(i))\n",
    "print(next(i))\n",
    "print(next(i))\n",
    "print(list(i))\n",
    "j=iter(l)\n",
    "print(list(j))"
   ]
  },
  {
   "cell_type": "code",
   "execution_count": 18,
   "metadata": {},
   "outputs": [
    {
     "name": "stdout",
     "output_type": "stream",
     "text": [
      "<list_iterator object at 0x7f06d56e08d0>\n",
      "abhi\n",
      "a\n",
      "['singh']\n",
      "<class 'list_iterator'>\n"
     ]
    }
   ],
   "source": [
    "l=[\"abhi\",\"a\",\"singh\"]\n",
    "i=iter(l)\n",
    "print(i)\n",
    "print(next(i))\n",
    "print(next(i))\n",
    "print(list(i))\n",
    "print(type(i))"
   ]
  },
  {
   "cell_type": "code",
   "execution_count": 19,
   "metadata": {},
   "outputs": [
    {
     "name": "stdout",
     "output_type": "stream",
     "text": [
      "['__class__', '__delattr__', '__dir__', '__doc__', '__eq__', '__format__', '__ge__', '__getattribute__', '__gt__', '__hash__', '__init__', '__init_subclass__', '__iter__', '__le__', '__length_hint__', '__lt__', '__ne__', '__new__', '__next__', '__reduce__', '__reduce_ex__', '__repr__', '__setattr__', '__setstate__', '__sizeof__', '__str__', '__subclasshook__']\n"
     ]
    }
   ],
   "source": [
    "print(dir(i))"
   ]
  },
  {
   "cell_type": "code",
   "execution_count": 20,
   "metadata": {},
   "outputs": [],
   "source": [
    "import itertools"
   ]
  },
  {
   "cell_type": "code",
   "execution_count": 25,
   "metadata": {},
   "outputs": [
    {
     "name": "stdout",
     "output_type": "stream",
     "text": [
      "<itertools.chain object at 0x7f06dd9026d0>\n",
      "<class 'itertools.chain'>\n",
      "10\n",
      "20\n",
      "30\n",
      "40\n",
      "50\n",
      "python\n",
      "java\n",
      "c\n",
      "100\n",
      "101\n",
      "102\n",
      "103\n",
      "104\n",
      "105\n",
      "106\n",
      "107\n",
      "108\n",
      "109\n",
      "110\n",
      "111\n",
      "112\n",
      "113\n",
      "114\n",
      "<class 'int'>\n"
     ]
    }
   ],
   "source": [
    "l1=[10,20,30,40,50]\n",
    "l2=[\"python\",\"java\",\"c\"]\n",
    "l3=range(100,115)\n",
    "\n",
    "i=itertools.chain(l1,l2,l3)\n",
    "print(i)\n",
    "print(type(i))\n",
    "print(next(i))\n",
    "for value in i:\n",
    "    print(value)\n",
    "    \n",
    "print(type(value))"
   ]
  },
  {
   "cell_type": "code",
   "execution_count": null,
   "metadata": {},
   "outputs": [],
   "source": [
    "l1=[10,20,30,40,50,60]\n",
    "l2=[\"python\",\"java\",\"c\"]\n",
    "l3=range(100,115)\n",
    "\n",
    "i=itertools.chain(l1,l2,l3)\n",
    "print(i)\n",
    "print(type(i))\n",
    "print(next(i))\n",
    "\n"
   ]
  },
  {
   "cell_type": "code",
   "execution_count": 30,
   "metadata": {},
   "outputs": [],
   "source": [
    "l1=[10,20,30,40,50,60]\n",
    "i=itertools.cycle(i)\n",
    "for value in i:\n",
    "    if value<20:\n",
    "        print(value)\n",
    "    "
   ]
  },
  {
   "cell_type": "code",
   "execution_count": null,
   "metadata": {},
   "outputs": [],
   "source": []
  },
  {
   "cell_type": "code",
   "execution_count": 27,
   "metadata": {},
   "outputs": [
    {
     "name": "stdout",
     "output_type": "stream",
     "text": [
      "[(10, 20), (10, 30), (10, 40), (20, 30), (20, 40), (30, 40)]\n",
      "[(10, 20), (10, 30), (10, 40), (20, 10), (20, 30), (20, 40), (30, 10), (30, 20), (30, 40), (40, 10), (40, 20), (40, 30)]\n"
     ]
    }
   ],
   "source": [
    "l=[10,20,30,40]\n",
    "print(list(itertools.combinations(l,2)))\n",
    "print(list(itertools.permutations(l,2)))"
   ]
  },
  {
   "cell_type": "code",
   "execution_count": 29,
   "metadata": {
    "scrolled": true
   },
   "outputs": [
    {
     "name": "stdout",
     "output_type": "stream",
     "text": [
      "(<itertools._tee object at 0x7f06d56f4e10>, <itertools._tee object at 0x7f06d56f50a0>, <itertools._tee object at 0x7f06d56f50f0>, <itertools._tee object at 0x7f06d56f5140>, <itertools._tee object at 0x7f06d56f5190>)\n",
      "python\n",
      "java\n",
      "c\n",
      "python\n",
      "java\n",
      "c\n",
      "100\n",
      "101\n",
      "102\n",
      "103\n",
      "104\n",
      "105\n",
      "106\n",
      "107\n",
      "108\n",
      "109\n",
      "110\n",
      "111\n",
      "112\n",
      "113\n",
      "114\n",
      "python\n",
      "java\n",
      "c\n",
      "python\n",
      "java\n",
      "c\n",
      "100\n",
      "101\n",
      "102\n",
      "103\n",
      "104\n",
      "105\n",
      "106\n",
      "107\n",
      "108\n",
      "109\n",
      "110\n",
      "111\n",
      "112\n",
      "113\n",
      "114\n"
     ]
    }
   ],
   "source": [
    "l1=[10,20,30,40,50,60]\n",
    "l2=[\"python\",\"java\",\"c\"]\n",
    "l3=range(100,115)\n",
    "i=itertools.chain(l2,l2,l3)\n",
    "t=itertools.tee(i,5)\n",
    "print(t)\n",
    "for value in t[0]:\n",
    "    print(value)\n",
    "for value in t[1]:\n",
    "    print(value)"
   ]
  },
  {
   "cell_type": "code",
   "execution_count": null,
   "metadata": {},
   "outputs": [],
   "source": [
    "count\n",
    "islice\n",
    "group"
   ]
  },
  {
   "cell_type": "code",
   "execution_count": null,
   "metadata": {},
   "outputs": [],
   "source": [
    "#generaters:-function acting as iterater\n"
   ]
  },
  {
   "cell_type": "code",
   "execution_count": null,
   "metadata": {},
   "outputs": [],
   "source": [
    "n1=0\n",
    "n2=1\n",
    "next_num=1\n",
    "n1=1\n",
    "n2=2\n",
    "next_num=2\n",
    "0,1,1,2,3,5,8,13"
   ]
  },
  {
   "cell_type": "code",
   "execution_count": 2,
   "metadata": {},
   "outputs": [
    {
     "name": "stdout",
     "output_type": "stream",
     "text": [
      "0\n",
      "1\n",
      "1\n"
     ]
    }
   ],
   "source": [
    "def fibo():\n",
    "    num1=0\n",
    "    yield num1\n",
    "    num2=1\n",
    "    yield num2\n",
    "    while(True):#yield is defined to make the function\n",
    "                #a generator function(yield:-generater object)\n",
    "        next_num=num1+num2\n",
    "        yield next_num\n",
    "        num1,num2=num2,next_num\n",
    "        \n",
    "    \n",
    "g=fibo()\n",
    "print(next(g))\n",
    "print(next(g))\n",
    "print(next(g))\n"
   ]
  },
  {
   "cell_type": "code",
   "execution_count": 6,
   "metadata": {},
   "outputs": [
    {
     "name": "stdout",
     "output_type": "stream",
     "text": [
      "1\n",
      "2\n",
      "[0, 1, 1, 2, 3]\n"
     ]
    }
   ],
   "source": [
    "def fibo():\n",
    "    output=[]\n",
    "    num1=0\n",
    "    num2=1\n",
    "    output.append(num1)\n",
    "    output.append(num2)\n",
    "    count=2\n",
    "    \n",
    "    while(True):#yield is defined to make the function\n",
    "                #a generator function(yield:-generater object)\n",
    "        next_num=num1+num2\n",
    "        output.append(next_num)\n",
    "        count+=1\n",
    "        if count==5:\n",
    "            yield output\n",
    "            output=[]\n",
    "            coun=0\n",
    "        yield next_num\n",
    "        num1,num2=num2,next_num\n",
    "        \n",
    "    \n",
    "g=fibo()\n",
    "print(next(g))\n",
    "print(next(g))\n",
    "print(next(g))"
   ]
  },
  {
   "cell_type": "code",
   "execution_count": null,
   "metadata": {},
   "outputs": [],
   "source": [
    "function state??"
   ]
  },
  {
   "cell_type": "code",
   "execution_count": 7,
   "metadata": {},
   "outputs": [
    {
     "name": "stdout",
     "output_type": "stream",
     "text": [
      "10\n",
      "20\n",
      "30\n",
      "40\n"
     ]
    }
   ],
   "source": [
    "def printval(l):\n",
    "    for val in l:\n",
    "        yield val\n",
    "\n",
    "l=[10,20,30,40]\n",
    "g=printval(l)\n",
    "\n",
    "print(next(g))\n",
    "print(next(g))\n",
    "print(next(g))\n",
    "print(next(g))\n",
    "\n"
   ]
  },
  {
   "cell_type": "code",
   "execution_count": 11,
   "metadata": {},
   "outputs": [
    {
     "name": "stdout",
     "output_type": "stream",
     "text": [
      "10\n"
     ]
    },
    {
     "ename": "StopIteration",
     "evalue": "20",
     "output_type": "error",
     "traceback": [
      "\u001b[0;31m---------------------------------------------------------------------------\u001b[0m",
      "\u001b[0;31mStopIteration\u001b[0m                             Traceback (most recent call last)",
      "\u001b[0;32m<ipython-input-11-c2a7a17ef94e>\u001b[0m in \u001b[0;36m<module>\u001b[0;34m\u001b[0m\n\u001b[1;32m      9\u001b[0m \u001b[0;34m\u001b[0m\u001b[0m\n\u001b[1;32m     10\u001b[0m \u001b[0mprint\u001b[0m\u001b[0;34m(\u001b[0m\u001b[0mnext\u001b[0m\u001b[0;34m(\u001b[0m\u001b[0mg\u001b[0m\u001b[0;34m)\u001b[0m\u001b[0;34m)\u001b[0m\u001b[0;34m\u001b[0m\u001b[0;34m\u001b[0m\u001b[0m\n\u001b[0;32m---> 11\u001b[0;31m \u001b[0mprint\u001b[0m\u001b[0;34m(\u001b[0m\u001b[0mnext\u001b[0m\u001b[0;34m(\u001b[0m\u001b[0mg\u001b[0m\u001b[0;34m)\u001b[0m\u001b[0;34m)\u001b[0m\u001b[0;34m\u001b[0m\u001b[0;34m\u001b[0m\u001b[0m\n\u001b[0m\u001b[1;32m     12\u001b[0m \u001b[0mprint\u001b[0m\u001b[0;34m(\u001b[0m\u001b[0mnext\u001b[0m\u001b[0;34m(\u001b[0m\u001b[0mg\u001b[0m\u001b[0;34m)\u001b[0m\u001b[0;34m)\u001b[0m\u001b[0;34m\u001b[0m\u001b[0;34m\u001b[0m\u001b[0m\n\u001b[1;32m     13\u001b[0m \u001b[0mprint\u001b[0m\u001b[0;34m(\u001b[0m\u001b[0mnext\u001b[0m\u001b[0;34m(\u001b[0m\u001b[0mg\u001b[0m\u001b[0;34m)\u001b[0m\u001b[0;34m)\u001b[0m\u001b[0;34m\u001b[0m\u001b[0;34m\u001b[0m\u001b[0m\n",
      "\u001b[0;31mStopIteration\u001b[0m: 20"
     ]
    }
   ],
   "source": [
    "def printval(l):\n",
    "    for val in l:\n",
    "        if val==20:\n",
    "            return val\n",
    "        yield val\n",
    "\n",
    "l=[10,20,30,40]\n",
    "g=printval(l)\n",
    "\n",
    "print(next(g))\n",
    "print(next(g))\n",
    "print(next(g))\n",
    "print(next(g))\n",
    "\n",
    "\n"
   ]
  },
  {
   "cell_type": "code",
   "execution_count": 15,
   "metadata": {},
   "outputs": [
    {
     "name": "stdout",
     "output_type": "stream",
     "text": [
      "<generator object <genexpr> at 0x7f920c0e4650>\n",
      "100\n",
      "400\n",
      "900\n"
     ]
    }
   ],
   "source": [
    "l=[10,20,30,40,50]\n",
    "t=(value*value for value in l)\n",
    "print(t)\n",
    "print(next(t))\n",
    "print(next(t))\n",
    "print(next(t))\n"
   ]
  }
 ],
 "metadata": {
  "kernelspec": {
   "display_name": "Python 3",
   "language": "python",
   "name": "python3"
  },
  "language_info": {
   "codemirror_mode": {
    "name": "ipython",
    "version": 3
   },
   "file_extension": ".py",
   "mimetype": "text/x-python",
   "name": "python",
   "nbconvert_exporter": "python",
   "pygments_lexer": "ipython3",
   "version": "3.7.4"
  }
 },
 "nbformat": 4,
 "nbformat_minor": 2
}
