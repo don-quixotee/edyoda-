{
 "cells": [
  {
   "cell_type": "code",
   "execution_count": null,
   "metadata": {},
   "outputs": [],
   "source": [
    "sys:- interpreter releted,memory space\n",
    "os:- os rleated\n",
    "pdb\n",
    "\n",
    "htreading\n",
    "\n",
    "\n",
    "xml\n",
    "json\n",
    "csv\n"
   ]
  },
  {
   "cell_type": "code",
   "execution_count": 3,
   "metadata": {},
   "outputs": [],
   "source": [
    "import sys"
   ]
  },
  {
   "cell_type": "code",
   "execution_count": 15,
   "metadata": {},
   "outputs": [
    {
     "name": "stdout",
     "output_type": "stream",
     "text": [
      "72\n",
      "104\n",
      "104\n",
      "104\n",
      "104\n",
      "136\n",
      "136\n",
      "136\n",
      "136\n",
      "200\n",
      "200\n",
      "200\n",
      "200\n",
      "200\n",
      "200\n",
      "200\n",
      "200\n"
     ]
    }
   ],
   "source": [
    "l = []\n",
    "print(sys.getsizeof(l))\n",
    "l.append(10)\n",
    "print(sys.getsizeof(l))\n",
    "l.append(10)\n",
    "print(sys.getsizeof(l))\n",
    "l.append(10)\n",
    "print(sys.getsizeof(l))\n",
    "l.append(10)\n",
    "print(sys.getsizeof(l))\n",
    "l.append(10)\n",
    "print(sys.getsizeof(l))\n",
    "l.append(10)\n",
    "print(sys.getsizeof(l))\n",
    "l.append(10)\n",
    "print(sys.getsizeof(l))\n",
    "l.append(10)\n",
    "print(sys.getsizeof(l))\n",
    "l.append(10)\n",
    "print(sys.getsizeof(l))\n",
    "l.append(10)\n",
    "print(sys.getsizeof(l))\n",
    "l.append(10)\n",
    "print(sys.getsizeof(l))\n",
    "l.append(10)\n",
    "print(sys.getsizeof(l))\n",
    "l.append(10)\n",
    "print(sys.getsizeof(l))\n",
    "l.append(10)\n",
    "print(sys.getsizeof(l))\n",
    "l.append(10)\n",
    "print(sys.getsizeof(l))\n",
    "l.append(10)\n",
    "print(sys.getsizeof(l))\n",
    "\n",
    "\n",
    "\n"
   ]
  },
  {
   "cell_type": "code",
   "execution_count": null,
   "metadata": {},
   "outputs": [],
   "source": [
    "the size above is the size of reference of the elements\n",
    "not the elements"
   ]
  },
  {
   "cell_type": "code",
   "execution_count": 4,
   "metadata": {},
   "outputs": [
    {
     "name": "stdout",
     "output_type": "stream",
     "text": [
      "248\n"
     ]
    }
   ],
   "source": [
    "d = {}\n",
    "print(sys.getsizeof(d))"
   ]
  },
  {
   "cell_type": "code",
   "execution_count": 5,
   "metadata": {
    "scrolled": true
   },
   "outputs": [
    {
     "name": "stdout",
     "output_type": "stream",
     "text": [
      "248\n",
      "248\n",
      "248\n",
      "248\n",
      "248\n",
      "376\n",
      "376\n",
      "376\n",
      "376\n",
      "376\n",
      "656\n",
      "656\n",
      "656\n"
     ]
    }
   ],
   "source": [
    "d[1] = 100\n",
    "print(sys.getsizeof(d))\n",
    "d[2]=200\n",
    "print(sys.getsizeof(d))\n",
    "d[3] = 300\n",
    "print(sys.getsizeof(d))\n",
    "d[4]=400\n",
    "print(sys.getsizeof(d))\n",
    "d[5]=600\n",
    "print(sys.getsizeof(d))\n",
    "d[6] = 600\n",
    "print(sys.getsizeof(d))\n",
    "d[7] = 700\n",
    "print(sys.getsizeof(d))\n",
    "d[8] = 800\n",
    "print(sys.getsizeof(d))\n",
    "d[9] = 900\n",
    "print(sys.getsizeof(d))\n",
    "d[10] = 1000\n",
    "print(sys.getsizeof(d))\n",
    "d[11] = 1100\n",
    "print(sys.getsizeof(d))\n",
    "d[12] = 1200\n",
    "print(sys.getsizeof(d))\n",
    "d[13] = 1300\n",
    "print(sys.getsizeof(d))"
   ]
  },
  {
   "cell_type": "code",
   "execution_count": 6,
   "metadata": {},
   "outputs": [
    {
     "data": {
      "text/plain": [
       "['/home/don_quixote/Desktop/edyoda',\n",
       " '/home/don_quixote/anaconda3/lib/python37.zip',\n",
       " '/home/don_quixote/anaconda3/lib/python3.7',\n",
       " '/home/don_quixote/anaconda3/lib/python3.7/lib-dynload',\n",
       " '',\n",
       " '/home/don_quixote/anaconda3/lib/python3.7/site-packages',\n",
       " '/home/don_quixote/anaconda3/lib/python3.7/site-packages/IPython/extensions',\n",
       " '/home/don_quixote/.ipython']"
      ]
     },
     "execution_count": 6,
     "metadata": {},
     "output_type": "execute_result"
    }
   ],
   "source": [
    "sys.path"
   ]
  },
  {
   "cell_type": "code",
   "execution_count": 24,
   "metadata": {},
   "outputs": [
    {
     "data": {
      "text/plain": [
       "['/home/don_quixote/Desktop/edyoda',\n",
       " '/home/don_quixote/anaconda3/lib/python37.zip',\n",
       " '/home/don_quixote/anaconda3/lib/python3.7',\n",
       " '/home/don_quixote/anaconda3/lib/python3.7/lib-dynload',\n",
       " '',\n",
       " '/home/don_quixote/anaconda3/lib/python3.7/site-packages',\n",
       " '/home/don_quixote/anaconda3/lib/python3.7/site-packages/IPython/extensions',\n",
       " '/home/don_quixote/.ipython',\n",
       " 'D:\\\\',\n",
       " 'D:\\\\']"
      ]
     },
     "execution_count": 24,
     "metadata": {},
     "output_type": "execute_result"
    }
   ],
   "source": [
    "sys.path.append(\"D:\\\\\")\n",
    "sys.path"
   ]
  },
  {
   "cell_type": "code",
   "execution_count": 11,
   "metadata": {},
   "outputs": [
    {
     "name": "stdout",
     "output_type": "stream",
     "text": [
      "Help on built-in function getsizeof in module sys:\n",
      "\n",
      "getsizeof(...)\n",
      "    getsizeof(object, default) -> int\n",
      "    \n",
      "    Return the size of object in bytes.\n",
      "\n",
      "None\n"
     ]
    }
   ],
   "source": [
    "print(help(sys.getsizeof))"
   ]
  },
  {
   "cell_type": "code",
   "execution_count": 10,
   "metadata": {},
   "outputs": [
    {
     "name": "stdout",
     "output_type": "stream",
     "text": [
      "linux\n"
     ]
    }
   ],
   "source": [
    "print(sys.platform)"
   ]
  },
  {
   "cell_type": "code",
   "execution_count": 12,
   "metadata": {},
   "outputs": [
    {
     "data": {
      "text/plain": [
       "'linux'"
      ]
     },
     "execution_count": 12,
     "metadata": {},
     "output_type": "execute_result"
    }
   ],
   "source": [
    "sys.platform\n"
   ]
  },
  {
   "cell_type": "code",
   "execution_count": 13,
   "metadata": {},
   "outputs": [],
   "source": [
    "import os"
   ]
  },
  {
   "cell_type": "code",
   "execution_count": 14,
   "metadata": {},
   "outputs": [
    {
     "data": {
      "text/plain": [
       "<module 'os' from '/home/don_quixote/anaconda3/lib/python3.7/os.py'>"
      ]
     },
     "execution_count": 14,
     "metadata": {},
     "output_type": "execute_result"
    }
   ],
   "source": [
    "os"
   ]
  },
  {
   "cell_type": "code",
   "execution_count": 56,
   "metadata": {},
   "outputs": [],
   "source": [
    "os.mkdir(\"pdb\")"
   ]
  },
  {
   "cell_type": "code",
   "execution_count": 58,
   "metadata": {},
   "outputs": [
    {
     "name": "stdout",
     "output_type": "stream",
     "text": [
      "/home/don_quixote/Desktop/edyoda/test_dir/test_dir\n"
     ]
    }
   ],
   "source": [
    "print(os.getcwd())"
   ]
  },
  {
   "cell_type": "code",
   "execution_count": 22,
   "metadata": {
    "scrolled": true
   },
   "outputs": [
    {
     "name": "stdout",
     "output_type": "stream",
     "text": [
      "/home/don_quixote/Desktop/edyoda/test_dir/test_dir\n"
     ]
    }
   ],
   "source": [
    "os.chdir(\"test_dir\")\n",
    "print(os.getcwd())"
   ]
  },
  {
   "cell_type": "code",
   "execution_count": 27,
   "metadata": {},
   "outputs": [
    {
     "name": "stdout",
     "output_type": "stream",
     "text": [
      "/home/don_quixote/Desktop/edyoda/test_dir/test_dir\n"
     ]
    }
   ],
   "source": [
    "print(os.getcwd())"
   ]
  },
  {
   "cell_type": "code",
   "execution_count": 28,
   "metadata": {},
   "outputs": [
    {
     "data": {
      "text/plain": [
       "<function posix.chdir(path)>"
      ]
     },
     "execution_count": 28,
     "metadata": {},
     "output_type": "execute_result"
    }
   ],
   "source": [
    "os.chdir"
   ]
  },
  {
   "cell_type": "code",
   "execution_count": 31,
   "metadata": {},
   "outputs": [
    {
     "data": {
      "text/plain": [
       "'linux'"
      ]
     },
     "execution_count": 31,
     "metadata": {},
     "output_type": "execute_result"
    }
   ],
   "source": [
    "sys.platform"
   ]
  },
  {
   "cell_type": "code",
   "execution_count": 35,
   "metadata": {},
   "outputs": [
    {
     "data": {
      "text/plain": [
       "512"
      ]
     },
     "execution_count": 35,
     "metadata": {},
     "output_type": "execute_result"
    }
   ],
   "source": [
    "os.system(\"python test_file.py\")"
   ]
  },
  {
   "cell_type": "code",
   "execution_count": 37,
   "metadata": {},
   "outputs": [
    {
     "data": {
      "text/plain": [
       "['__all__',\n",
       " '__builtins__',\n",
       " '__cached__',\n",
       " '__doc__',\n",
       " '__file__',\n",
       " '__loader__',\n",
       " '__name__',\n",
       " '__package__',\n",
       " '__spec__',\n",
       " '_get_sep',\n",
       " '_joinrealpath',\n",
       " '_varprog',\n",
       " '_varprogb',\n",
       " 'abspath',\n",
       " 'altsep',\n",
       " 'basename',\n",
       " 'commonpath',\n",
       " 'commonprefix',\n",
       " 'curdir',\n",
       " 'defpath',\n",
       " 'devnull',\n",
       " 'dirname',\n",
       " 'exists',\n",
       " 'expanduser',\n",
       " 'expandvars',\n",
       " 'extsep',\n",
       " 'genericpath',\n",
       " 'getatime',\n",
       " 'getctime',\n",
       " 'getmtime',\n",
       " 'getsize',\n",
       " 'isabs',\n",
       " 'isdir',\n",
       " 'isfile',\n",
       " 'islink',\n",
       " 'ismount',\n",
       " 'join',\n",
       " 'lexists',\n",
       " 'normcase',\n",
       " 'normpath',\n",
       " 'os',\n",
       " 'pardir',\n",
       " 'pathsep',\n",
       " 'realpath',\n",
       " 'relpath',\n",
       " 'samefile',\n",
       " 'sameopenfile',\n",
       " 'samestat',\n",
       " 'sep',\n",
       " 'split',\n",
       " 'splitdrive',\n",
       " 'splitext',\n",
       " 'stat',\n",
       " 'supports_unicode_filenames',\n",
       " 'sys']"
      ]
     },
     "execution_count": 37,
     "metadata": {},
     "output_type": "execute_result"
    }
   ],
   "source": [
    "dir(os.path)"
   ]
  },
  {
   "cell_type": "code",
   "execution_count": 40,
   "metadata": {},
   "outputs": [
    {
     "name": "stdout",
     "output_type": "stream",
     "text": [
      "test1.py\n",
      "/home/don_quixote/Desktop/edyoda\n"
     ]
    }
   ],
   "source": [
    "n = r\"/home/don_quixote/Desktop/edyoda/test1.py\"\n",
    "print(os.path.basename(n))\n",
    "print(os.path.dirname(n))"
   ]
  },
  {
   "cell_type": "code",
   "execution_count": 43,
   "metadata": {},
   "outputs": [
    {
     "name": "stdout",
     "output_type": "stream",
     "text": [
      "['In', 'Out', '_', '_11', '_12', '_14', '_24', '_28', '_31', '_33', '_35', '_36', '_37', '_6', '_7', '_8', '__', '___', '__builtin__', '__builtins__', '__doc__', '__loader__', '__name__', '__package__', '__spec__', '_dh', '_i', '_i1', '_i10', '_i11', '_i12', '_i13', '_i14', '_i15', '_i16', '_i17', '_i18', '_i19', '_i2', '_i20', '_i21', '_i22', '_i23', '_i24', '_i25', '_i26', '_i27', '_i28', '_i29', '_i3', '_i30', '_i31', '_i32', '_i33', '_i34', '_i35', '_i36', '_i37', '_i38', '_i39', '_i4', '_i40', '_i41', '_i42', '_i43', '_i5', '_i6', '_i7', '_i8', '_i9', '_ih', '_ii', '_iii', '_oh', 'd', 'exit', 'get_ipython', 'n', 'os', 'quit', 'sys']\n"
     ]
    }
   ],
   "source": [
    "print(dir())"
   ]
  },
  {
   "cell_type": "code",
   "execution_count": 51,
   "metadata": {},
   "outputs": [
    {
     "name": "stdout",
     "output_type": "stream",
     "text": [
      "\n"
     ]
    }
   ],
   "source": [
    "print(os.path.dirname('__file__'))"
   ]
  },
  {
   "cell_type": "code",
   "execution_count": 55,
   "metadata": {},
   "outputs": [
    {
     "data": {
      "text/plain": [
       "<module 'posixpath' from '/home/don_quixote/anaconda3/lib/python3.7/posixpath.py'>"
      ]
     },
     "execution_count": 55,
     "metadata": {},
     "output_type": "execute_result"
    }
   ],
   "source": [
    "os.path"
   ]
  },
  {
   "cell_type": "code",
   "execution_count": 59,
   "metadata": {},
   "outputs": [
    {
     "ename": "FileExistsError",
     "evalue": "[Errno 17] File exists: 'pdb'",
     "output_type": "error",
     "traceback": [
      "\u001b[0;31m---------------------------------------------------------------------------\u001b[0m",
      "\u001b[0;31mFileExistsError\u001b[0m                           Traceback (most recent call last)",
      "\u001b[0;32m<ipython-input-59-b07fb30748bb>\u001b[0m in \u001b[0;36m<module>\u001b[0;34m\u001b[0m\n\u001b[0;32m----> 1\u001b[0;31m \u001b[0mos\u001b[0m\u001b[0;34m.\u001b[0m\u001b[0mmkdir\u001b[0m\u001b[0;34m(\u001b[0m\u001b[0;34m\"pdb\"\u001b[0m\u001b[0;34m)\u001b[0m\u001b[0;34m\u001b[0m\u001b[0;34m\u001b[0m\u001b[0m\n\u001b[0m",
      "\u001b[0;31mFileExistsError\u001b[0m: [Errno 17] File exists: 'pdb'"
     ]
    }
   ],
   "source": [
    "os.mkdir(\"pdb\")"
   ]
  }
 ],
 "metadata": {
  "kernelspec": {
   "display_name": "Python 3",
   "language": "python",
   "name": "python3"
  },
  "language_info": {
   "codemirror_mode": {
    "name": "ipython",
    "version": 3
   },
   "file_extension": ".py",
   "mimetype": "text/x-python",
   "name": "python",
   "nbconvert_exporter": "python",
   "pygments_lexer": "ipython3",
   "version": "3.7.6"
  }
 },
 "nbformat": 4,
 "nbformat_minor": 4
}
