{
 "cells": [
  {
   "cell_type": "markdown",
   "metadata": {},
   "source": [
    "### 1. Create a Time class and initialize it with hours and minutes.\n",
    "    Make a method addTime which should take two time object and add them. E.g.- (2 hour and 50 min)+\n",
    "    (1 hr and 20 min) is (4 hr and 10 min)\n",
    "    Make a method displayTime which should print the time.\n",
    "    Input: Time(2, 50), Time(1, 20)\n",
    "    Output: '4:10'"
   ]
  },
  {
   "cell_type": "code",
   "execution_count": 7,
   "metadata": {},
   "outputs": [
    {
     "name": "stdout",
     "output_type": "stream",
     "text": [
      "2\n",
      "50\n",
      "1\n",
      "20\n",
      "4.166666666666667 0.0\n"
     ]
    }
   ],
   "source": [
    "class Time():\n",
    "    def __init__(self, hours, mins):\n",
    "        self.mins = mins\n",
    "        self.hours = hours \n",
    "        \n",
    "    def addTime(self, time1 , time2):\n",
    "        time = Time(0,0)\n",
    "        if time1.mins + time2.mins > 60:\n",
    "            time.hours =(time1.mins + time2.mins)/60\n",
    "        time.hours = time.hours + time1.hours + time2.hours\n",
    "        time.mins = (time1.mins + time2.mins) - ((time1.mins + time2.mins)/60)*60\n",
    "        return time\n",
    "    \n",
    "    def displayTime(self):\n",
    "        print( self.hours, self.mins)\n",
    "    \n",
    "time1 = Time(2, 50)\n",
    "time2 = Time(1,20)\n",
    "print(time1.hours)\n",
    "print(time1.mins)\n",
    "print(time2.hours)\n",
    "print(time2.mins)\n",
    "\n",
    "\n",
    "\n",
    "\n",
    "obj = Time.addTime(None , time1, time2)\n",
    "obj.displayTime()\n",
    "\n",
    "\n",
    "        \n",
    "    \n",
    "    "
   ]
  },
  {
   "cell_type": "markdown",
   "metadata": {},
   "source": [
    "## 2. Write a Python program to implement pow(x, n).¶\n",
    " \n",
    "    Input : 2, 2\n",
    "    Output : 4\n"
   ]
  },
  {
   "cell_type": "code",
   "execution_count": 9,
   "metadata": {},
   "outputs": [
    {
     "name": "stdout",
     "output_type": "stream",
     "text": [
      "enter x for pow(x,n) x: 2\n",
      "enter n for pow(x,n) n: 2\n",
      "4\n"
     ]
    }
   ],
   "source": [
    "class Powxn:\n",
    "    def __init__(self, x, n):\n",
    "        self.x = x\n",
    "        self.n = n\n",
    "    def calculate(self):\n",
    "        return self.x ** self.n\n",
    "    \n",
    "num1 = int(input(\"enter x for pow(x,n) x: \"))\n",
    "num2 = int(input(\"enter n for pow(x,n) n: \"))\n",
    "xn = Powxn(num1, num2)\n",
    "print(xn.calculate())"
   ]
  },
  {
   "cell_type": "markdown",
   "metadata": {},
   "source": [
    "# 3. write a python program to reverse a given string\n",
    "    Input : 'Edyoda'\n",
    "    Output : 'adoydE"
   ]
  },
  {
   "cell_type": "code",
   "execution_count": 15,
   "metadata": {},
   "outputs": [
    {
     "name": "stdout",
     "output_type": "stream",
     "text": [
      "enter the string to be reversed abhi\n"
     ]
    },
    {
     "data": {
      "text/plain": [
       "'ihba'"
      ]
     },
     "execution_count": 15,
     "metadata": {},
     "output_type": "execute_result"
    }
   ],
   "source": [
    "class ReverseString:\n",
    "    def __init__(self, stringName):\n",
    "        self.stringName = stringName\n",
    "        \n",
    "    def reverseString(self):\n",
    "\n",
    "        return self.stringName[::-1]\n",
    "    \n",
    "s = input(\"enter the string to be reversed \")  \n",
    "rev = ReverseString(s)\n",
    "rev.reverseString()"
   ]
  },
  {
   "cell_type": "markdown",
   "metadata": {},
   "source": [
    "# 4. Write a Python program to find validity of a string of parentheses,\n",
    "    '(', ')', '{', '}', '[' and ']. These brackets must be close in the correct order,\n",
    "    for example \"()\" and \"()[]{}\" are valid but \"[)\", \"({[)]\" and \"{{{\" are invalid.\n",
    "    Input : \"{[}(()\"\n",
    "    Output : False"
   ]
  },
  {
   "cell_type": "code",
   "execution_count": 19,
   "metadata": {},
   "outputs": [
    {
     "data": {
      "text/plain": [
       "False"
      ]
     },
     "execution_count": 19,
     "metadata": {},
     "output_type": "execute_result"
    }
   ],
   "source": [
    "class ValidParentheses:\n",
    "    def __init__(self, inputString):\n",
    "        self.s = inputString\n",
    "        \n",
    "    def validParentheses(self):\n",
    "        s1 = []\n",
    "        for e in self.s: \n",
    "            if (e == '{'):\n",
    "                s1.append('}')\n",
    "            elif (e == '['):\n",
    "                s1.append(']')\n",
    "            elif (e == '('):\n",
    "                s1.append(')')\n",
    "            else:\n",
    "                if (not s1 or e != s1[-1]):\n",
    "                    return False\n",
    "                s1.pop();\n",
    "        if not s1:\n",
    "            return True\n",
    "        return False\n",
    "    \n",
    "vp = ValidParentheses(\"{{[([{})]}}\")\n",
    "vp. validParentheses()"
   ]
  },
  {
   "cell_type": "markdown",
   "metadata": {},
   "source": [
    "# 5. Write a Python program to convert an integer to a roman numeral.\n",
    "    Input : 4000\n",
    "    Output : \"MMMM\""
   ]
  },
  {
   "cell_type": "code",
   "execution_count": 20,
   "metadata": {},
   "outputs": [
    {
     "name": "stdout",
     "output_type": "stream",
     "text": [
      "[1000, 900, 500, 400, 100, 90, 50, 40, 10, 9, 5, 4, 1]\n"
     ]
    },
    {
     "data": {
      "text/plain": [
       "'CXXV'"
      ]
     },
     "execution_count": 20,
     "metadata": {},
     "output_type": "execute_result"
    }
   ],
   "source": [
    "class RomanNum:\n",
    "    def __init__(self, num):\n",
    "        self.number  = num\n",
    "    def romanNum(self):\n",
    "        roman_symbols = {1: 'I', 4: 'IV', 5:'V', 9: 'IX',\n",
    "        10: 'X', 40: 'XL', 50: 'L', 90:'XC',\n",
    "        100: 'C', 400:'CD', 500: 'D', 900:'CM',\n",
    "        1000:'M'\n",
    "        }\n",
    "\n",
    "        highest_dec_values = sorted(roman_symbols.keys(),reverse= True)\n",
    "        print(highest_dec_values)\n",
    "        if self.number>=4000:\n",
    "            return False\n",
    "        d='' \n",
    "\n",
    "        index = 0\n",
    "        while self.number:\n",
    "            div = self.number // highest_dec_values[index]\n",
    "            self.number %= highest_dec_values[index]\n",
    "            while div: \n",
    "                d+=roman_symbols[highest_dec_values[index]]\n",
    "                div -= 1\n",
    "            index += 1\n",
    "        return d\n",
    "\n",
    "r = RomanNum(125)\n",
    "r.romanNum()\n"
   ]
  },
  {
   "cell_type": "markdown",
   "metadata": {},
   "source": [
    " # 6. Write a Python program to get all possible unique subsets from a set of \n",
    "    distinct integers.\n",
    "    Input: [0,1]\n",
    "    Output: [[], [1], [0], [0, 1]"
   ]
  },
  {
   "cell_type": "code",
   "execution_count": 3,
   "metadata": {},
   "outputs": [
    {
     "name": "stdout",
     "output_type": "stream",
     "text": [
      "[[], [1], [0], [0, 1]]\n"
     ]
    }
   ],
   "source": [
    "class Subset:\n",
    "    def uniqueSubset(self, nset):\n",
    "        return self.subset([], sorted(nset))\n",
    "\n",
    "    def subset(self, curr, nset):\n",
    "        if nset:\n",
    "            return self.subset(curr, nset[1:]) + self.subset(curr + [nset[0]], nset[1:])\n",
    "        return [curr]\n",
    "\n",
    "\n",
    "print(Subset().uniqueSubset([0,1]))"
   ]
  },
  {
   "cell_type": "code",
   "execution_count": null,
   "metadata": {},
   "outputs": [],
   "source": []
  }
 ],
 "metadata": {
  "kernelspec": {
   "display_name": "Python 3",
   "language": "python",
   "name": "python3"
  },
  "language_info": {
   "codemirror_mode": {
    "name": "ipython",
    "version": 3
   },
   "file_extension": ".py",
   "mimetype": "text/x-python",
   "name": "python",
   "nbconvert_exporter": "python",
   "pygments_lexer": "ipython3",
   "version": "3.7.6"
  }
 },
 "nbformat": 4,
 "nbformat_minor": 4
}
