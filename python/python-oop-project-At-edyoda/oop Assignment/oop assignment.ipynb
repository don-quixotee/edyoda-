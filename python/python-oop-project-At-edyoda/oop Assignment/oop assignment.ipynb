{
 "cells": [
  {
   "cell_type": "markdown",
   "metadata": {},
   "source": [
    "### 1. Create a Time class and initialize it with hours and minutes.\n",
    "    Make a method addTime which should take two time object and add them. E.g.- (2 hour and 50 min)+\n",
    "    (1 hr and 20 min) is (4 hr and 10 min)\n",
    "    Make a method displayTime which should print the time.\n",
    "    Input: Time(2, 50), Time(1, 20)\n",
    "    Output: '4:10'"
   ]
  },
  {
   "cell_type": "code",
   "execution_count": 7,
   "metadata": {},
   "outputs": [
    {
     "name": "stdout",
     "output_type": "stream",
     "text": [
      "2\n",
      "50\n",
      "1\n",
      "20\n",
      "4.166666666666667 0.0\n"
     ]
    }
   ],
   "source": [
    "class Time():\n",
    "    def __init__(self, hours, mins):\n",
    "        self.mins = mins\n",
    "        self.hours = hours \n",
    "        \n",
    "    def addTime(self, time1 , time2):\n",
    "        time = Time(0,0)\n",
    "        if time1.mins + time2.mins > 60:\n",
    "            time.hours =(time1.mins + time2.mins)/60\n",
    "        time.hours = time.hours + time1.hours + time2.hours\n",
    "        time.mins = (time1.mins + time2.mins) - ((time1.mins + time2.mins)/60)*60\n",
    "        return time\n",
    "    \n",
    "    def displayTime(self):\n",
    "        print( self.hours, self.mins)\n",
    "    \n",
    "time1 = Time(2, 50)\n",
    "time2 = Time(1,20)\n",
    "print(time1.hours)\n",
    "print(time1.mins)\n",
    "print(time2.hours)\n",
    "print(time2.mins)\n",
    "\n",
    "\n",
    "\n",
    "\n",
    "obj = Time.addTime(None , time1, time2)\n",
    "obj.displayTime()\n",
    "\n",
    "\n",
    "        \n",
    "    \n",
    "    "
   ]
  },
  {
   "cell_type": "markdown",
   "metadata": {},
   "source": [
    "## 2. Write a Python program to implement pow(x, n).¶\n",
    " \n",
    "    Input : 2, 2\n",
    "    Output : 4\n"
   ]
  },
  {
   "cell_type": "code",
   "execution_count": 9,
   "metadata": {},
   "outputs": [
    {
     "name": "stdout",
     "output_type": "stream",
     "text": [
      "enter x for pow(x,n) x: 2\n",
      "enter n for pow(x,n) n: 2\n",
      "4\n"
     ]
    }
   ],
   "source": [
    "class Powxn:\n",
    "    def __init__(self, x, n):\n",
    "        self.x = x\n",
    "        self.n = n\n",
    "    def calculate(self):\n",
    "        return self.x ** self.n\n",
    "    \n",
    "num1 = int(input(\"enter x for pow(x,n) x: \"))\n",
    "num2 = int(input(\"enter n for pow(x,n) n: \"))\n",
    "xn = Powxn(num1, num2)\n",
    "print(xn.calculate())"
   ]
  },
  {
   "cell_type": "code",
   "execution_count": null,
   "metadata": {},
   "outputs": [],
   "source": []
  }
 ],
 "metadata": {
  "kernelspec": {
   "display_name": "Python 3",
   "language": "python",
   "name": "python3"
  },
  "language_info": {
   "codemirror_mode": {
    "name": "ipython",
    "version": 3
   },
   "file_extension": ".py",
   "mimetype": "text/x-python",
   "name": "python",
   "nbconvert_exporter": "python",
   "pygments_lexer": "ipython3",
   "version": "3.7.6"
  }
 },
 "nbformat": 4,
 "nbformat_minor": 4
}
