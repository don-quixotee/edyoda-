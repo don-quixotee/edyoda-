{
 "cells": [
  {
   "cell_type": "code",
   "execution_count": 1,
   "metadata": {},
   "outputs": [
    {
     "name": "stdout",
     "output_type": "stream",
     "text": [
      "new email is abc@gmail.com \n",
      "new email is abhishek \n",
      "unauthorised\n"
     ]
    }
   ],
   "source": [
    "def login_required(func):\n",
    "    def login(username, password, value):\n",
    "        if username == \"abc\" and password == \"abc123\":\n",
    "            return func(username , password, value)\n",
    "        else:\n",
    "            return \"unauthorised\"\n",
    "    \n",
    "    return login\n",
    "\n",
    "@login_required\n",
    "def update_name(username, password, new_name):\n",
    "    return \"new email is {} \".format(new_name)\n",
    "    \n",
    "@login_required\n",
    "def update_email(username, password, new_email):\n",
    "    return \"new email is {} \".format(new_email)\n",
    "\n",
    "\n",
    "@login_required\n",
    "def change_password(username, password, new_password):\n",
    "    return \"new email is {} \".format(new_password)\n",
    "\n",
    "\n",
    "print(update_email(\"abc\", \"abc123\", \"abc@gmail.com\"))\n",
    "print(update_name(\"abc\", \"abc123\", \"abhishek\"))\n",
    "print(change_password(\"abd\", \"abd@123\", \"abc#123\"))\n"
   ]
  }
 ],
 "metadata": {
  "kernelspec": {
   "display_name": "Python 3",
   "language": "python",
   "name": "python3"
  },
  "language_info": {
   "codemirror_mode": {
    "name": "ipython",
    "version": 3
   },
   "file_extension": ".py",
   "mimetype": "text/x-python",
   "name": "python",
   "nbconvert_exporter": "python",
   "pygments_lexer": "ipython3",
   "version": "3.7.6"
  }
 },
 "nbformat": 4,
 "nbformat_minor": 4
}
