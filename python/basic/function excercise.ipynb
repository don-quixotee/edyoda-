{
 "cells": [
  {
   "cell_type": "code",
   "execution_count": 13,
   "metadata": {},
   "outputs": [
    {
     "name": "stdout",
     "output_type": "stream",
     "text": [
      "Problem 1\n",
      "True\n",
      "False\n",
      "True\n"
     ]
    }
   ],
   "source": [
    "## -- PROBLEM 1 -- ##\n",
    "print (\"Problem 1\")\n",
    "# Given a list of integers, return True if the sequence of numbers 1, 2, 3\n",
    "# appears in the list somewhere.\n",
    "\n",
    "# For example:\n",
    "\n",
    "# arrayCheck([1, 1, 2, 3, 1]) → True\n",
    "# arrayCheck([1, 1, 2, 4, 1]) → False\n",
    "# arrayCheck([1, 1, 2, 1, 2, 3]) → True\n",
    "\n",
    "def array_check(nums):\n",
    "    for i in range(len(nums)-2):\n",
    "        if nums[i]==1 and nums[i+1]==2 and nums[i+2]==3:\n",
    "            return True\n",
    "    return False\n",
    "\n",
    "print(array_check([1, 1, 2, 3, 1]))\n",
    "print(array_check([1, 1, 2, 4, 1]))\n",
    "print(array_check([1, 1, 2, 1, 2, 3]))"
   ]
  },
  {
   "cell_type": "markdown",
   "metadata": {},
   "source": [
    "\n",
    "## -- PROBLEM 2 -- ##\n",
    "# Given a string, return a new string made of every other character starting\n",
    "# with the first, so \"Hello\" yields \"Hlo\".\n",
    "\n",
    "# For example:\n",
    "\n",
    "# stringBits('Hello') → 'Hlo'\n",
    "# stringBits('Hi') → 'H'\n",
    "# stringBits('Heeololeo') → 'Hello'\n",
    "\n"
   ]
  },
  {
   "cell_type": "code",
   "execution_count": 16,
   "metadata": {},
   "outputs": [
    {
     "name": "stdout",
     "output_type": "stream",
     "text": [
      "Hlo\n",
      "H\n",
      "Hello\n",
      "Problem 2 - Alternative\n",
      "Hlo\n",
      "H\n",
      "Hello\n"
     ]
    }
   ],
   "source": [
    "def string_bits(str):\n",
    "    result = \"\"\n",
    "    for i in range(len(str)):\n",
    "        if i%2 == 0:\n",
    "            result += str[i]\n",
    "    return result\n",
    "\n",
    "print(string_bits(\"Hello\"))\n",
    "print(string_bits(\"Hi\"))\n",
    "print(string_bits(\"Heeololeo\"))\n",
    "\n",
    "print(\"Problem 2 - Alternative\")\n",
    "\n",
    "def string_bits_2(str):\n",
    "    return str[::2]\n",
    "\n",
    "print(string_bits_2(\"Hello\"))\n",
    "print(string_bits_2(\"Hi\"))\n",
    "print(string_bits_2(\"Heeololeo\"))"
   ]
  },
  {
   "cell_type": "markdown",
   "metadata": {},
   "source": [
    "\n",
    "## -- PROBLEM 3 -- ##\n",
    "# Given two strings, return True if either of the strings appears at the very end\n",
    "# of the other string, ignoring upper/lower case differences (in other words, the\n",
    "# computation should not be \"case sensitive\").\n",
    "#\n",
    "# Note: s.lower() returns the lowercase version of a string.\n",
    "#\n",
    "# Examples:\n",
    "#\n",
    "# end_other('Hiabc', 'abc') → True\n",
    "# end_other('AbC', 'HiaBc') → True\n",
    "# end_other('abc', 'abXabc') → True\n",
    "\n"
   ]
  },
  {
   "cell_type": "code",
   "execution_count": 23,
   "metadata": {},
   "outputs": [
    {
     "name": "stdout",
     "output_type": "stream",
     "text": [
      "True\n",
      "True\n",
      "True\n",
      "False\n"
     ]
    }
   ],
   "source": [
    "\n",
    "def end_other(a, b):\n",
    "    a = a.lower()\n",
    "    b = b.lower()\n",
    "\n",
    "    end_a = a[-len(b):]\n",
    "    end_b = b[-len(a):]\n",
    "    return b in end_a or a in end_b\n",
    "\n",
    "print(end_other('Hiabc', 'abc'))\n",
    "print(end_other('AbC', 'HiaBc'))\n",
    "print(end_other('abc', 'abXabc'))\n",
    "print(end_other('xyz', 'wtgrs'))\n",
    "\n",
    "\n"
   ]
  },
  {
   "cell_type": "markdown",
   "metadata": {},
   "source": [
    "## -- PROBLEM 4 -- ##\n",
    "# Given a string, return a string where for every char in the original,\n",
    "# there are two chars.\n",
    "\n",
    "# doubleChar('The') → 'TThhee'\n",
    "# doubleChar('AAbb') → 'AAAAbbbb'\n",
    "# doubleChar('Hi-There') → 'HHii--TThheerree'\n"
   ]
  },
  {
   "cell_type": "code",
   "execution_count": 22,
   "metadata": {},
   "outputs": [
    {
     "name": "stdout",
     "output_type": "stream",
     "text": [
      "TThhee\n",
      "AAAAbbbb\n",
      "HHii--TThheerree\n"
     ]
    }
   ],
   "source": [
    "\n",
    "def double_char(str):\n",
    "    result = \"\"\n",
    "    for letter in str:\n",
    "        result += letter + letter\n",
    "    return result\n",
    "\n",
    "print(double_char('The'))\n",
    "print(double_char('AAbb'))\n",
    "print(double_char('Hi-There'))"
   ]
  },
  {
   "cell_type": "raw",
   "metadata": {},
   "source": [
    "# -- PROBLEM 5 -- ##\n",
    "print \"Problem 5\"\n",
    "# Read this problem statement carefully!\n",
    "\n",
    "# Given 3 int values, a b c, return their sum. However, if any of the values is a\n",
    "# teen -- in the range 13-19 inclusive -- then that value counts as 0, except 15\n",
    "# and 16 do not count as a teens. Write a separate helper \"def fix_teen(n):\"that\n",
    "# takes in an int value and returns that value fixed for the teen rule.\n",
    "#\n",
    "# In this way, you avoid repeating the teen code 3 times (i.e. \"decomposition\").\n",
    "# Define the helper below and at the same indent level as the main no_teen_sum().\n",
    "# Again, you will have two functions for this problem!\n",
    "#\n",
    "# Examples:\n",
    "#\n",
    "# no_teen_sum(1, 2, 3) → 6\n",
    "# no_teen_sum(2, 13, 1) → 3\n",
    "# no_teen_sum(2, 1, 14) → 3\n",
    "\n"
   ]
  },
  {
   "cell_type": "code",
   "execution_count": 20,
   "metadata": {},
   "outputs": [
    {
     "name": "stdout",
     "output_type": "stream",
     "text": [
      "6\n",
      "3\n",
      "3\n"
     ]
    }
   ],
   "source": [
    "def no_teen_sum(a, b, c):\n",
    "    return fix_teen(a) + fix_teen(b) + fix_teen(c)\n",
    "\n",
    "def fix_teen(n):\n",
    "  if n in [13, 14, 17, 18, 19]:\n",
    "          return 0\n",
    "  return n\n",
    "\n",
    "print(no_teen_sum(1, 2, 3))\n",
    "print(no_teen_sum(2, 13, 1))\n",
    "print(no_teen_sum(2, 1, 14))"
   ]
  },
  {
   "cell_type": "markdown",
   "metadata": {},
   "source": [
    "# -- PROBLEM 6 -- ##\n",
    "# Return the number of even integers in the given array.\n",
    "\n",
    "# Examples:\n",
    "\n",
    "# count_evens([2, 1, 2, 3, 4]) → 3\n",
    "# count_evens([2, 2, 0]) → 3\n",
    "# count_evens([1, 3, 5]) → 0\n",
    "\n"
   ]
  },
  {
   "cell_type": "code",
   "execution_count": 17,
   "metadata": {},
   "outputs": [
    {
     "name": "stdout",
     "output_type": "stream",
     "text": [
      "3\n",
      "3\n",
      "0\n"
     ]
    }
   ],
   "source": [
    "def count_evens(nums):\n",
    "    counter = 0\n",
    "    for i in nums:\n",
    "        if i % 2 == 0:\n",
    "            counter = counter + 1\n",
    "    return counter\n",
    "\n",
    "print(count_evens([2, 1, 2, 3, 4]))\n",
    "print(count_evens([2, 2, 0]))\n",
    "print(count_evens([1, 3, 5]))"
   ]
  }
 ],
 "metadata": {
  "kernelspec": {
   "display_name": "Python 3",
   "language": "python",
   "name": "python3"
  },
  "language_info": {
   "codemirror_mode": {
    "name": "ipython",
    "version": 3
   },
   "file_extension": ".py",
   "mimetype": "text/x-python",
   "name": "python",
   "nbconvert_exporter": "python",
   "pygments_lexer": "ipython3",
   "version": "3.7.4"
  }
 },
 "nbformat": 4,
 "nbformat_minor": 2
}
