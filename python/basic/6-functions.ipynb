{
 "cells": [
  {
   "cell_type": "markdown",
   "metadata": {},
   "source": [
    "# 5: Functions\n",
    "---\n",
    "We've been using functions others have written, but now we'll get to use our own. The major advantage writing a function is that it allows us to re-use code. Another benefit is that it allows us to isolate and compartmentalize functionality, and inject english into our code through the function name."
   ]
  },
  {
   "cell_type": "code",
   "execution_count": 1,
   "metadata": {},
   "outputs": [
    {
     "name": "stdout",
     "output_type": "stream",
     "text": [
      "hello world!\n",
      "hello world!\n",
      "hello world!\n",
      "hello world!\n"
     ]
    }
   ],
   "source": [
    "def say_hello(): #this is a function definition, the name is arbitrary\n",
    "    print('hello world!') #this is the function body\n",
    "say_hello() #this is a function 'call' or 'invocation', it matches the name\n",
    "\n",
    "# the major benefit of functions is that they allow us to re-use code\n",
    "say_hello()\n",
    "say_hello()\n",
    "say_hello()"
   ]
  },
  {
   "cell_type": "code",
   "execution_count": 2,
   "metadata": {},
   "outputs": [
    {
     "name": "stdout",
     "output_type": "stream",
     "text": [
      "hello world!\n",
      "hello world!\n",
      "hello world!\n",
      "hello world!\n",
      "hello world!\n",
      "hello world!\n",
      "hello world!\n",
      "hello world!\n",
      "hello world!\n",
      "hello world!\n",
      "hello world!\n",
      "hello world!\n",
      "hello world!\n",
      "hello world!\n",
      "hello world!\n",
      "hello world!\n",
      "hello world!\n",
      "hello world!\n",
      "hello world!\n",
      "hello world!\n",
      "hello world!\n"
     ]
    }
   ],
   "source": [
    "def say_hello(): #this is a function definition, the name is arbitrary\n",
    "    print('hello world!') #this is the function body\n",
    "say_hello() #this is a function 'call' or 'invocation', it matches the name\n",
    "\n",
    "# the major benefit of functions is that they allow us to re-use code\n",
    "#also you can cal function in loop multiple times(mostly used in game development)\n",
    "for i in range(20):\n",
    "    say_hello()"
   ]
  },
  {
   "cell_type": "code",
   "execution_count": 2,
   "metadata": {},
   "outputs": [
    {
     "name": "stdout",
     "output_type": "stream",
     "text": [
      "hello world!\n",
      "hello again!\n"
     ]
    }
   ],
   "source": [
    "# functions can take 'parameters' or 'arguments', variables that are passed to the function when it's called\n",
    "# these variables are only visible within the function\n",
    "# like variable names, the parameter names are arbitrary\n",
    "def print_txt(txt): \n",
    "    print(txt)\n",
    "\n",
    "print_txt('hello world!') # when a function is called, whatever value is passed is given the parameter name within the function\n",
    "\n",
    "s = 'hello again!'\n",
    "print_txt(s) # functions allow us to isolate pieces of code that serve a specific purpose, and re-use them"
   ]
  },
  {
   "cell_type": "code",
   "execution_count": 3,
   "metadata": {},
   "outputs": [
    {
     "name": "stdout",
     "output_type": "stream",
     "text": [
      "7\n",
      "8\n",
      "hello world!\n"
     ]
    }
   ],
   "source": [
    "# a function can take multiple parameters, and 'return' a value\n",
    "def add(a, b):\n",
    "    return a + b\n",
    "x = add(5, 2) # the returned value can be stored in a variable\n",
    "y = add(x, 1)\n",
    "print(x)\n",
    "print(y)\n",
    "\n",
    "# don't forget that python is 'weakly-typed'\n",
    "s = add('hello ', 'world!')\n",
    "print(s)"
   ]
  },
  {
   "cell_type": "code",
   "execution_count": 4,
   "metadata": {},
   "outputs": [
    {
     "name": "stdout",
     "output_type": "stream",
     "text": [
      "6\n",
      "7\n"
     ]
    }
   ],
   "source": [
    "# we also can have 'default paramaters'\n",
    "# these will default to the given value if left unspecified in the call\n",
    "\n",
    "def add(a, b=1):\n",
    "    print(a + b)\n",
    "add(5)\n",
    "add(5,2)"
   ]
  },
  {
   "cell_type": "code",
   "execution_count": 5,
   "metadata": {},
   "outputs": [
    {
     "name": "stdout",
     "output_type": "stream",
     "text": [
      "7\n",
      "5\t6\t7\t"
     ]
    }
   ],
   "source": [
    "# we can also allows us to explicitly name the parameter\n",
    "def add(a, b=1):\n",
    "    print(a + b)\n",
    "add(5, b=2)\n",
    "\n",
    "# note the use with 'print', the default value of end is '\\n'\n",
    "print(5, end='\\t')\n",
    "print(6, end='\\t')\n",
    "print(7, end='\\t')"
   ]
  },
  {
   "cell_type": "code",
   "execution_count": 6,
   "metadata": {},
   "outputs": [
    {
     "name": "stdout",
     "output_type": "stream",
     "text": [
      "7\n",
      "None\n"
     ]
    }
   ],
   "source": [
    "# if we don't return a value, it'll implicitly be 'None'\n",
    "def add(a, b):\n",
    "    print(a + b) # note, there's no 'return' statement\n",
    "c = add(5, 2) # when we go to assign the result to a variable, it'll be None\n",
    "print(c)"
   ]
  },
  {
   "cell_type": "code",
   "execution_count": 7,
   "metadata": {},
   "outputs": [
    {
     "name": "stdout",
     "output_type": "stream",
     "text": [
      "7\n",
      "None\n"
     ]
    }
   ],
   "source": [
    "# we can also explicitly return None\n",
    "def add(a, b):\n",
    "    print(a + b)\n",
    "    return None\n",
    "c = add(5, 2)\n",
    "print(c)"
   ]
  },
  {
   "cell_type": "code",
   "execution_count": 9,
   "metadata": {},
   "outputs": [
    {
     "name": "stdout",
     "output_type": "stream",
     "text": [
      "Hello\n",
      "100\n",
      "100\n",
      "200\n"
     ]
    }
   ],
   "source": [
    "def print_msg(msg):\n",
    "    ab=100\n",
    "# This is the outer enclosing function\n",
    "\n",
    "    def printer():\n",
    "# This is the nested function\n",
    "        print(msg)\n",
    "        print(ab)\n",
    "        def funinfun(a):\n",
    "            print(ab)\n",
    "            print(a)\n",
    "        \n",
    "        \n",
    "        funinfun(200)\n",
    "\n",
    "    printer()\n",
    "\n",
    "# We execute the function\n",
    "# Output: Hello\n",
    "print_msg(\"Hello\")"
   ]
  },
  {
   "cell_type": "code",
   "execution_count": null,
   "metadata": {},
   "outputs": [],
   "source": [
    "4th march 2020"
   ]
  }
 ],
 "metadata": {
  "kernelspec": {
   "display_name": "Python 3",
   "language": "python",
   "name": "python3"
  },
  "language_info": {
   "codemirror_mode": {
    "name": "ipython",
    "version": 3
   },
   "file_extension": ".py",
   "mimetype": "text/x-python",
   "name": "python",
   "nbconvert_exporter": "python",
   "pygments_lexer": "ipython3",
   "version": "3.7.4"
  }
 },
 "nbformat": 4,
 "nbformat_minor": 2
}
