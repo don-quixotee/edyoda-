{
 "cells": [
  {
   "cell_type": "code",
   "execution_count": 1,
   "metadata": {},
   "outputs": [],
   "source": [
    "import re"
   ]
  },
  {
   "cell_type": "code",
   "execution_count": 3,
   "metadata": {},
   "outputs": [
    {
     "name": "stdout",
     "output_type": "stream",
     "text": [
      "searching for patterns....term1\n",
      "MATCH\n",
      "searching for patterns....term2\n"
     ]
    }
   ],
   "source": [
    "patterns=['term1','term2']\n",
    "text=\"this is a string with term1, not the other term\"\n",
    "for pattern in patterns:\n",
    "    print(\"searching for patterns....\"+pattern)\n",
    "    \n",
    "    if re.search(pattern,text):\n",
    "        print(\"MATCH\")\n",
    "    else:\n",
    "        print(\"NOMATCH\")\n",
    "\n"
   ]
  },
  {
   "cell_type": "code",
   "execution_count": 17,
   "metadata": {},
   "outputs": [
    {
     "name": "stdout",
     "output_type": "stream",
     "text": [
      "----USING MATCH FUNCTION----\n",
      "<re.Match object; span=(0, 5), match='term1'>\n",
      "0\n",
      "5\n"
     ]
    }
   ],
   "source": [
    "#using match function\n",
    "print(\"----USING MATCH FUNCTION----\")\n",
    "text='term1'\n",
    "match=re.search('term1',text)\n",
    "print(match)\n",
    "print(match.start())\n",
    "print(match.end())\n"
   ]
  },
  {
   "cell_type": "code",
   "execution_count": 20,
   "metadata": {},
   "outputs": [
    {
     "name": "stdout",
     "output_type": "stream",
     "text": [
      "['abc', 'gmail.com']\n"
     ]
    }
   ],
   "source": [
    "#using split\n",
    "split_term='@'\n",
    "email=\"abc@gmail.com\"\n",
    "print(re.split(split_term,email))"
   ]
  },
  {
   "cell_type": "code",
   "execution_count": 26,
   "metadata": {},
   "outputs": [
    {
     "name": "stdout",
     "output_type": "stream",
     "text": [
      "['match']\n",
      "['match', 'match']\n"
     ]
    }
   ],
   "source": [
    "#getv all matches\n",
    "print(re.findall('match','test phrase match is in middle'))\n",
    "print(re.findall('match','test phrase match is in middle match'))\n"
   ]
  },
  {
   "cell_type": "code",
   "execution_count": 51,
   "metadata": {
    "scrolled": false
   },
   "outputs": [
    {
     "name": "stdout",
     "output_type": "stream",
     "text": [
      "searching for  patterns sd*\n",
      "['sd', 'sd', 's', 's', 's', 'sddd', 'sd', 's', 'sddd', 'sddd', 'sd', 's', 's', 's', 's', 's', 's', 'sdddd']\n",
      "\n",
      "searching for  patterns sd+\n",
      "['sd', 'sd', 'sddd', 'sd', 'sddd', 'sddd', 'sd', 'sdddd']\n",
      "\n",
      "searching for  patterns sd{3}\n",
      "['sddd', 'sddd', 'sddd', 'sddd']\n",
      "\n",
      "searching for  patterns sd?\n",
      "['sd', 'sd', 's', 's', 's', 'sd', 'sd', 's', 'sd', 'sd', 'sd', 's', 's', 's', 's', 's', 's', 'sd']\n",
      "\n",
      "searching for  patterns sd{4,5}\n",
      "['sdddd']\n",
      "\n",
      "searching for  patterns s[sd]+\n",
      "['sdsd', 'sssddd', 'sd', 'sdddsddd', 'sds', 'sssss', 'sdddd']\n",
      "\n"
     ]
    }
   ],
   "source": [
    "def find_Re(patterns,phrase):\n",
    "    for pattern in patterns:\n",
    "        print(\"searching for  patterns {}\".format(pattern))\n",
    "        print(re.findall(pattern,phrase))\n",
    "        print()\n",
    "\n",
    "\n",
    "phrase = 'sdsd.sn.sssddd.sdn. smd.sdddsddd...dsds...dsssss...sdddd'\n",
    "#LOOK FOR S, FOLLOWED BY 0 OR MORE D's\n",
    "patterns = ['sd*']\n",
    "\n",
    "find_Re(patterns, phrase)\n",
    "\n",
    "#LOOK FOR S, FOLLOWED BY 1 OR MORE D's\n",
    "patterns = ['sd+']\n",
    "find_Re(patterns, phrase)\n",
    "\n",
    "#LOOK FOR S, FOLLOWED BY N D's\n",
    "patterns=['sd{3}']\n",
    "find_Re(patterns, phrase)\n",
    "\n",
    "#LOOK FOR S, FOLLOWED BY 0 OR 1 D\n",
    "patterns = ['sd?']\n",
    "find_Re(patterns, phrase)\n",
    "\n",
    "\n",
    "\n",
    "\n",
    "#LOOK FOR S, FOLLOWED By 4t05 d\n",
    "patterns = ['sd{4,5}']\n",
    "find_Re(patterns, phrase)\n",
    "\n",
    "\n",
    "# LOOK FOR S, FOLLOWED BY ONE OR MORE S's OR D's\n",
    "patterns = ['s[sd]+']\n",
    "find_Re(patterns, phrase)\n",
    "\n",
    "\n"
   ]
  },
  {
   "cell_type": "code",
   "execution_count": 54,
   "metadata": {},
   "outputs": [
    {
     "name": "stdout",
     "output_type": "stream",
     "text": [
      "searching for  patterns [^!.?]+\n",
      "['This is a string', ' Buit it has punctuation', ' How can we remove it']\n",
      "\n",
      "searching for  patterns [a-z]+\n",
      "['his', 'is', 'a', 'string', 'uit', 'it', 'has', 'punctuation', 'ow', 'can', 'we', 'remove', 'it']\n",
      "\n",
      "searching for  patterns [A-Z]+\n",
      "['T', 'B', 'H']\n",
      "\n"
     ]
    }
   ],
   "source": [
    "def find_Re(patterns,phrase):\n",
    "    for pattern in patterns:\n",
    "        print(\"searching for  patterns {}\".format(pattern))\n",
    "        print(re.findall(pattern,phrase))\n",
    "        print()\n",
    "\n",
    "        \n",
    "phrase = 'This is a string! Buit it has punctuation. How can we remove it?'\n",
    "# LOOK FOR ONE OR MORE INSTANCES OF !, ., ? \n",
    "patterns = ['[^!.?]+']\n",
    "find_Re(patterns, phrase)\n",
    "\n",
    "# LOOK FOR LOWERCASE CHARACTERS\n",
    "patterns = ['[a-z]+']\n",
    "find_Re(patterns, phrase)\n",
    "\n",
    "# LOOK FOR UPPERCASE CHARACTERS\n",
    "patterns = ['[A-Z]+']\n",
    "\n",
    "find_Re(patterns, phrase)\n",
    "\n",
    "\n",
    "\n",
    "\n",
    "\n"
   ]
  },
  {
   "cell_type": "code",
   "execution_count": 65,
   "metadata": {},
   "outputs": [
    {
     "name": "stdout",
     "output_type": "stream",
     "text": [
      "searching for  patterns \\d+\n",
      "['12312']\n",
      "\n",
      "searching for  patterns \\D+\n",
      "['This is a string with numbers ', ' and a symbol #hastag']\n",
      "\n",
      "searching for  patterns \\s+\n",
      "[' ', ' ', ' ', ' ', ' ', ' ', ' ', ' ', ' ', ' ']\n",
      "\n",
      "searching for  patterns \\S+\n",
      "['This', 'is', 'a', 'string', 'with', 'numbers', '12312', 'and', 'a', 'symbol', '#hastag']\n",
      "\n",
      "searching for  patterns \\w+\n",
      "['This', 'is', 'a', 'string', 'with', 'numbers', '12312', 'and', 'a', 'symbol', 'hastag']\n",
      "\n",
      "searching for  patterns \\W+\n",
      "[' ', ' ', ' ', ' ', ' ', ' ', ' ', ' ', ' ', ' #']\n",
      "\n"
     ]
    }
   ],
   "source": [
    "def find_Re(patterns,phrase):\n",
    "    for pattern in patterns:\n",
    "        print(\"searching for  patterns {}\".format(pattern))\n",
    "        print(re.findall(pattern,phrase))\n",
    "        print()\n",
    "        \n",
    "phrase = 'This is a string with numbers 12312 and a symbol #hastag'\n",
    "\n",
    "# LOOK FOR DIGIT CHARACTERS\n",
    "patterns = [r'\\d+']\n",
    "find_Re(patterns, phrase)\n",
    "\n",
    "# LOOK FOR NON DIGIT CHARACTERS\n",
    "patterns = [r'\\D+']\n",
    "find_Re(patterns, phrase)\n",
    "\n",
    "# LOOK FOR WHITESPACES\n",
    "patterns = [r'\\s+']\n",
    "find_Re(patterns, phrase)\n",
    "\n",
    "\n",
    "# LOOK FOR NON WHITESPACES\n",
    "patterns = [r'\\S+']\n",
    "find_Re(patterns, phrase)\n",
    "\n",
    "\n",
    "# LOOK FOR ALPHANUMERIC\n",
    "patterns = [r'\\w+']\n",
    "find_Re(patterns, phrase)\n",
    "\n",
    "# LOOK FOR NON ALPHANUMERIC\n",
    "patterns = [r'\\W+']\n",
    "find_Re(patterns, phrase)\n",
    "\n",
    "\n",
    "\n",
    "\n",
    "\n"
   ]
  }
 ],
 "metadata": {
  "kernelspec": {
   "display_name": "Python 3",
   "language": "python",
   "name": "python3"
  },
  "language_info": {
   "codemirror_mode": {
    "name": "ipython",
    "version": 3
   },
   "file_extension": ".py",
   "mimetype": "text/x-python",
   "name": "python",
   "nbconvert_exporter": "python",
   "pygments_lexer": "ipython3",
   "version": "3.7.4"
  }
 },
 "nbformat": 4,
 "nbformat_minor": 2
}
