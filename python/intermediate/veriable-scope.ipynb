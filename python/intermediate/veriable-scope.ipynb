{
 "cells": [
  {
   "cell_type": "code",
   "execution_count": 4,
   "metadata": {},
   "outputs": [
    {
     "name": "stdout",
     "output_type": "stream",
     "text": [
      "25\n",
      "50\n",
      "25\n"
     ]
    }
   ],
   "source": [
    "\n",
    "# Nested Statements and Scope #\n",
    "# When you create a variable name in Python the name is stored in a *name-space*. Variable names\n",
    "# also have a \"scope\", the scope determines the visibility of that variable name\n",
    "# to other parts of your code.\n",
    "\n",
    "x = 25\n",
    "\n",
    "def printer():\n",
    "    x = 50\n",
    "    return x\n",
    "\n",
    "print(x)\n",
    "print(printer())\n",
    "print(x)\n",
    "\n"
   ]
  },
  {
   "cell_type": "raw",
   "metadata": {},
   "source": [
    "# # In simple terms, the idea of scope can be described by 3 general rules:\n",
    "#\n",
    "# 1. Name assignments will create or change local names by default.\n",
    "# 2. Name references search (at most) four scopes, these are:\n",
    "#     * local\n",
    "#     * enclosing functions\n",
    "#     * global\n",
    "#     * built-in\n",
    "# 3. Names declared in global and nonlocal statements map assigned names to\n",
    "# enclosing module and function scopes.\n",
    "#\n",
    "#\n",
    "# The statement in #2 above can be defined by the LEGB rule.\n",
    "#\n",
    "# **LEGB Rule.**\n",
    "#\n",
    "# L: Local — Names assigned in any way within a function (def or lambda)),\n",
    "# and not declared global in that function.\n",
    "#\n",
    "# E: Enclosing function locals — Name in the local scope of any and all\n",
    "# enclosing functions (def or lambda), from inner to outer.\n",
    "#\n",
    "# G: Global (module) — Names assigned at the top-level of a module file, or\n",
    "# declared global in a def within the file.\n",
    "#\n",
    "# B: Built-in (Python) — Names preassigned in the built-in names module :\n",
    "# open,range,SyntaxError,...\n",
    "\n"
   ]
  },
  {
   "cell_type": "code",
   "execution_count": 5,
   "metadata": {},
   "outputs": [
    {
     "name": "stdout",
     "output_type": "stream",
     "text": [
      "Hello Sammy\n"
     ]
    }
   ],
   "source": [
    "\n",
    "### Quick examples of LEGB ####\n",
    "\n",
    "# Local\n",
    "\n",
    "# x is local here:\n",
    "f = lambda x:x**2\n",
    "\n",
    "name = 'This is a global name'\n",
    "\n",
    "def greet():\n",
    "    # Enclosing function\n",
    "    name = 'Sammy'\n",
    "\n",
    "    def hello():\n",
    "        print('Hello '+name)\n",
    "\n",
    "    hello()\n",
    "\n",
    "greet()\n",
    "\n"
   ]
  },
  {
   "cell_type": "raw",
   "metadata": {},
   "source": [
    "\n",
    "# Local Variables\n",
    "\n",
    "# When you declare variables inside a function definition, they are not related\n",
    "# in any way to other variables with the same names used outside the function -\n",
    "# i.e. variable names are local to the function. This is called the scope of the\n",
    "# variable. All variables have the scope of the block they are declared in\n",
    "# starting from the point of definition of the name.\n",
    "#\n",
    "# Example:"
   ]
  },
  {
   "cell_type": "code",
   "execution_count": 6,
   "metadata": {},
   "outputs": [
    {
     "name": "stdout",
     "output_type": "stream",
     "text": [
      "Before calling func(), x is:  50\n",
      "This function is now using the global x!\n",
      "Because of global x is:  50\n",
      "Ran func(), changed global x to 2\n",
      "Value of x (outside of func()) is:  2\n"
     ]
    }
   ],
   "source": [
    "x = 50\n",
    "\n",
    "def func():\n",
    "    global x\n",
    "    print('This function is now using the global x!')\n",
    "    print('Because of global x is: ', x)\n",
    "    x = 2\n",
    "    print('Ran func(), changed global x to', x)\n",
    "\n",
    "print('Before calling func(), x is: ', x)\n",
    "func()\n",
    "print('Value of x (outside of func()) is: ', x)\n"
   ]
  },
  {
   "cell_type": "raw",
   "metadata": {},
   "source": [
    "\n",
    "\n",
    "# The global statement is used to declare that x is a global variable - hence,\n",
    "# when we assign a value to x inside the function, that change is reflected\n",
    "# when we use the value of x in the main block.\n",
    "#\n",
    "# You can specify more than one global variable using the same global statement\n",
    "# e.g. global x, y, z.\n",
    "\n",
    "# Conclusion\n",
    "\n",
    "# You should now have a good understanding of Scope (you may have already\n",
    "# intuitively felt right about Scope which is great!) One last mention is that\n",
    "# you can use the globals() and locals() functions to check what are your current\n",
    "# local and global variables.\n",
    "#\n",
    "# Another thing to keep in mind is that everything in Python is an object! I can\n",
    "# assign variables to functions just like I can with numbers! We will go over\n",
    "# this again in the decorator section of the course!\n"
   ]
  }
 ],
 "metadata": {
  "kernelspec": {
   "display_name": "Python 3",
   "language": "python",
   "name": "python3"
  },
  "language_info": {
   "codemirror_mode": {
    "name": "ipython",
    "version": 3
   },
   "file_extension": ".py",
   "mimetype": "text/x-python",
   "name": "python",
   "nbconvert_exporter": "python",
   "pygments_lexer": "ipython3",
   "version": "3.7.4"
  }
 },
 "nbformat": 4,
 "nbformat_minor": 2
}
