{
 "cells": [
  {
   "cell_type": "code",
   "execution_count": 20,
   "metadata": {},
   "outputs": [
    {
     "name": "stdout",
     "output_type": "stream",
     "text": [
      "36120\n"
     ]
    }
   ],
   "source": [
    "\n",
    "from functools import reduce\n",
    "\n",
    "def multiply(x, y):\n",
    "    return x*y\n",
    "l=[43,6,7,5,4]\n",
    "product = reduce(multiply, l)\n",
    "print(product)"
   ]
  },
  {
   "cell_type": "code",
   "execution_count": 19,
   "metadata": {},
   "outputs": [
    {
     "name": "stdout",
     "output_type": "stream",
     "text": [
      "product of list item is: 17280\n",
      "sum of the list items are: 31\n",
      "values in the list are: (((((4, 6), 4), 6), 5), 6)\n"
     ]
    }
   ],
   "source": [
    "from functools import reduce\n",
    "def multiply(a,b):\n",
    "    return(a*b)\n",
    "def add(x,y):\n",
    "    return x+y\n",
    "def value(i,j):\n",
    "    return (i,j)\n",
    "\n",
    "\n",
    "l=[4,6,4,6,5,6]\n",
    "product = reduce(multiply,l)\n",
    "\n",
    "suml=reduce(add,l)\n",
    "\n",
    "value=reduce(value,l)\n",
    "print(\"product of list item is:\",product)\n",
    "\n",
    "print(\"sum of the list items are:\",suml)\n",
    "\n",
    "print(\"values in the list are:\",value)\n",
    "\n"
   ]
  }
 ],
 "metadata": {
  "kernelspec": {
   "display_name": "Python 3",
   "language": "python",
   "name": "python3"
  },
  "language_info": {
   "codemirror_mode": {
    "name": "ipython",
    "version": 3
   },
   "file_extension": ".py",
   "mimetype": "text/x-python",
   "name": "python",
   "nbconvert_exporter": "python",
   "pygments_lexer": "ipython3",
   "version": "3.7.6"
  }
 },
 "nbformat": 4,
 "nbformat_minor": 4
}
