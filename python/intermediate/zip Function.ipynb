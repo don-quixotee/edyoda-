{
 "cells": [
  {
   "cell_type": "code",
   "execution_count": 7,
   "metadata": {},
   "outputs": [
    {
     "name": "stdout",
     "output_type": "stream",
     "text": [
      "[(1, 4, 2), (2, 5, 4), (3, 6, 5)]\n",
      "1 4 2\n",
      "2 5 4\n",
      "3 6 5\n"
     ]
    }
   ],
   "source": [
    "x = [1, 2, 3]\n",
    "y = [4, 4, 6]\n",
    "z=[2,4,5,]\n",
    "\n",
    "zipped_list = list(zip(x, y,z))\n",
    "print(zipped_list)\n",
    "for i,j,k in zip(x,y,z):\n",
    "    print(i,j,k)\n",
    "    "
   ]
  },
  {
   "cell_type": "code",
   "execution_count": 15,
   "metadata": {},
   "outputs": [
    {
     "name": "stdout",
     "output_type": "stream",
     "text": [
      "1 4 2 4 2 2\n",
      "okey\n",
      "15\n",
      "list [1, 4, 2, 4, 2]\n",
      "2 4 4 7 4 67\n",
      "okey\n",
      "103\n",
      "list [2, 4, 4, 7, 67]\n",
      "3 6 5 4 5 8\n",
      "okey\n",
      "134\n",
      "list [3, 6, 5, 4, 8]\n"
     ]
    }
   ],
   "source": [
    "x = [1, 2, 3]\n",
    "y = [4, 4, 6]\n",
    "z = [2,4,5]\n",
    "m = [4,7,4]\n",
    "n = [2 ,4, 5]\n",
    "o = [2, 67, 8]\n",
    "\n",
    "\n",
    "suM=0\n",
    "for a,b,c,d,e,f in zip(x,y,z,m,n,o):\n",
    "    print(a,b,c,d,e,f)\n",
    "    suM=suM+a+b+c+d+e+f\n",
    "    print(suM)#zip makes matrix sum easy\n",
    "    l=[a,b,c,d,f] #you cann use zip to merge and create a new list\n",
    "    print(\"list\",l)"
   ]
  }
 ],
 "metadata": {
  "kernelspec": {
   "display_name": "Python 3",
   "language": "python",
   "name": "python3"
  },
  "language_info": {
   "codemirror_mode": {
    "name": "ipython",
    "version": 3
   },
   "file_extension": ".py",
   "mimetype": "text/x-python",
   "name": "python",
   "nbconvert_exporter": "python",
   "pygments_lexer": "ipython3",
   "version": "3.7.6"
  }
 },
 "nbformat": 4,
 "nbformat_minor": 4
}
