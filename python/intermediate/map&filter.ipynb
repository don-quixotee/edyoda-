{
 "cells": [
  {
   "cell_type": "code",
   "execution_count": 1,
   "metadata": {},
   "outputs": [
    {
     "name": "stdout",
     "output_type": "stream",
     "text": [
      "[1, 2, 3, 4, 5]\n",
      "[1, 4, 9, 16, 25]\n"
     ]
    }
   ],
   "source": [
    "#squaring a list element using loop\n",
    "items = [1, 2, 3, 4, 5]\n",
    "itemSquare= []\n",
    "for i in items:\n",
    "    itemSquare.append(i**2)\n",
    "    \n",
    "print(items)\n",
    "print(itemSquare)\n"
   ]
  },
  {
   "cell_type": "code",
   "execution_count": 2,
   "metadata": {},
   "outputs": [
    {
     "name": "stdout",
     "output_type": "stream",
     "text": [
      "[1, 2, 3, 4, 5]\n",
      "[1, 4, 9, 16, 25]\n"
     ]
    }
   ],
   "source": [
    "#squaring a loop elemsnt using map()\n",
    "def square(x):\n",
    "    return x**2\n",
    "\n",
    "items = [1, 2, 3, 4, 5]\n",
    "itemSquare = list(map(square, items))\n",
    "\n",
    "print(items)\n",
    "print(itemSquare)"
   ]
  },
  {
   "cell_type": "code",
   "execution_count": 4,
   "metadata": {},
   "outputs": [
    {
     "name": "stdout",
     "output_type": "stream",
     "text": [
      "[23, 4, 54, 5, 5, 4, 5, 3, 34]\n",
      "[529, 16, 2916, 25, 25, 16, 25, 9, 1156]\n"
     ]
    }
   ],
   "source": [
    "#finding square of the list elemnet using lambda with map\n",
    "\n",
    "l=[23,4,54,5,5,4,5,3,34]\n",
    "lsquare=list(map(lambda i: i**2 , l))\n",
    "print(l)\n",
    "print(lsquare)\n",
    "\n",
    "\n"
   ]
  },
  {
   "cell_type": "code",
   "execution_count": null,
   "metadata": {},
   "outputs": [],
   "source": [
    "#accessing a list of functions to get square after calling them"
   ]
  },
  {
   "cell_type": "code",
   "execution_count": 12,
   "metadata": {},
   "outputs": [
    {
     "name": "stdout",
     "output_type": "stream",
     "text": [
      "[0, 0, 0, 0]\n",
      "[1, 1, 1, 1]\n",
      "[4, 8, 16, 32]\n",
      "[9, 27, 81, 243]\n",
      "[16, 64, 256, 1024]\n"
     ]
    }
   ],
   "source": [
    "def sqr1(a):\n",
    "    return (a**2)\n",
    "def sqr2(a):\n",
    "    return (a**3)\n",
    "def sqr3(a):\n",
    "    return (a**4)\n",
    "    \n",
    "def sqr4(a):\n",
    "    return (a**5)\n",
    "\n",
    "\n",
    "\n",
    "listOffun=[sqr1,sqr2,sqr3,sqr4]\n",
    "for i in range(5):\n",
    "    value=list(map(lambda x: x(i),listOffun))\n",
    "    print(value)\n",
    "    "
   ]
  },
  {
   "cell_type": "markdown",
   "metadata": {},
   "source": [
    "# Filter():- it creates a list of elements which a function returns true"
   ]
  },
  {
   "cell_type": "code",
   "execution_count": 14,
   "metadata": {},
   "outputs": [
    {
     "name": "stdout",
     "output_type": "stream",
     "text": [
      "[2, 4, 6, 8, 10, 12, 14, 16, 18, 20, 22, 24, 26, 28, 30]\n"
     ]
    }
   ],
   "source": [
    "#to filter even numbers from a list of numbers\n",
    "def even(x):\n",
    "    if  x%2==0:\n",
    "        return x\n",
    "l=list(range(1,31))\n",
    "evenNum=list(filter(even,l))\n",
    "print(evenNum)"
   ]
  },
  {
   "cell_type": "code",
   "execution_count": 16,
   "metadata": {},
   "outputs": [
    {
     "name": "stdout",
     "output_type": "stream",
     "text": [
      "[2, 4, 6, 8, 10, 12, 14, 16, 18, 20, 22, 24, 26, 28, 30]\n"
     ]
    }
   ],
   "source": [
    "#filter can aslo be used with lambda\n",
    "\n",
    "l=list(range(1,31))\n",
    "evenList=list(filter(lambda x:  x%2==0,l))\n",
    "print(evenList)"
   ]
  },
  {
   "cell_type": "code",
   "execution_count": null,
   "metadata": {},
   "outputs": [],
   "source": [
    "list/dict comprehension can also be used in palce of map and filter"
   ]
  }
 ],
 "metadata": {
  "kernelspec": {
   "display_name": "Python 3",
   "language": "python",
   "name": "python3"
  },
  "language_info": {
   "codemirror_mode": {
    "name": "ipython",
    "version": 3
   },
   "file_extension": ".py",
   "mimetype": "text/x-python",
   "name": "python",
   "nbconvert_exporter": "python",
   "pygments_lexer": "ipython3",
   "version": "3.7.6"
  }
 },
 "nbformat": 4,
 "nbformat_minor": 4
}
