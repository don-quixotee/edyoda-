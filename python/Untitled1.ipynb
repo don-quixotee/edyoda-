{
 "cells": [
  {
   "cell_type": "code",
   "execution_count": 8,
   "metadata": {},
   "outputs": [
    {
     "name": "stdout",
     "output_type": "stream",
     "text": [
      "<__main__.User object at 0x7f3a3042c390>\n",
      "139887894512528\n",
      "139887894512592\n",
      "94542762519024\n"
     ]
    }
   ],
   "source": [
    "class User:\n",
    "    pass\n",
    "user1=User()\n",
    "user2=User()\n",
    "print(user1)\n",
    "print(id(user1))\n",
    "print(id(user2))\n",
    "print(id(User))"
   ]
  },
  {
   "cell_type": "code",
   "execution_count": 3,
   "metadata": {},
   "outputs": [
    {
     "ename": "TypeError",
     "evalue": "User() takes no arguments",
     "output_type": "error",
     "traceback": [
      "\u001b[0;31m---------------------------------------------------------------------------\u001b[0m",
      "\u001b[0;31mTypeError\u001b[0m                                 Traceback (most recent call last)",
      "\u001b[0;32m<ipython-input-3-b98a68aefec9>\u001b[0m in \u001b[0;36m<module>\u001b[0;34m\u001b[0m\n\u001b[1;32m      1\u001b[0m \u001b[0;32mclass\u001b[0m \u001b[0mUser\u001b[0m\u001b[0;34m:\u001b[0m\u001b[0;34m\u001b[0m\u001b[0;34m\u001b[0m\u001b[0m\n\u001b[1;32m      2\u001b[0m     \u001b[0;32mpass\u001b[0m\u001b[0;34m\u001b[0m\u001b[0;34m\u001b[0m\u001b[0m\n\u001b[0;32m----> 3\u001b[0;31m \u001b[0muser1\u001b[0m\u001b[0;34m=\u001b[0m\u001b[0mUser\u001b[0m\u001b[0;34m(\u001b[0m\u001b[0;34m\"abc\"\u001b[0m\u001b[0;34m,\u001b[0m\u001b[0;34m\"abc@gmail.com\"\u001b[0m\u001b[0;34m,\u001b[0m\u001b[0;34m\"abc@123\"\u001b[0m\u001b[0;34m)\u001b[0m\u001b[0;34m\u001b[0m\u001b[0;34m\u001b[0m\u001b[0m\n\u001b[0m\u001b[1;32m      4\u001b[0m \u001b[0mprint\u001b[0m\u001b[0;34m(\u001b[0m\u001b[0muser1\u001b[0m\u001b[0;34m)\u001b[0m\u001b[0;34m\u001b[0m\u001b[0;34m\u001b[0m\u001b[0m\n\u001b[1;32m      5\u001b[0m \u001b[0muser2\u001b[0m\u001b[0;34m-\u001b[0m\u001b[0mUser\u001b[0m\u001b[0;34m(\u001b[0m\u001b[0;34m\"xyz\"\u001b[0m\u001b[0;34m,\u001b[0m\u001b[0;34m\"xyz@gmail.comm\"\u001b[0m\u001b[0;34m,\u001b[0m\u001b[0;34m\"xyz@123\"\u001b[0m\u001b[0;34m)\u001b[0m\u001b[0;34m\u001b[0m\u001b[0;34m\u001b[0m\u001b[0m\n",
      "\u001b[0;31mTypeError\u001b[0m: User() takes no arguments"
     ]
    }
   ],
   "source": [
    "class User:\n",
    "    pass\n",
    "user1=User(\"abc\",\"abc@gmail.com\",\"abc@123\")\n",
    "print(user1)\n",
    "user2-User(\"xyz\",\"xyz@gmail.comm\",\"xyz@123\")\n",
    "print(user2)"
   ]
  },
  {
   "cell_type": "code",
   "execution_count": 16,
   "metadata": {},
   "outputs": [
    {
     "name": "stdout",
     "output_type": "stream",
     "text": [
      "<__main__.User object at 0x7f3a3267e5d0>\n",
      "<__main__.User object at 0x7f3a30428050>\n",
      "[1, 2, 4, 6, 7]\n",
      "[1, 2, 4, 6, 7]\n",
      "[1, 2, 4, 6, 7]\n",
      "[1, 2, 4, 6, 7]\n",
      "[1, 2, 4, 6, 7]\n",
      "[1, 2, 4, 6, 7]\n",
      "[1, 2, 4, 6, 7]\n",
      "[1, 2, 4, 6, 7]\n",
      "[1, 2, 4, 6, 7]\n",
      "[1, 2, 4, 6, 7]\n"
     ]
    }
   ],
   "source": [
    "class User:\n",
    "    def __init__(s,username,email,password):\n",
    "        s.username=username\n",
    "        s.email=email\n",
    "        s.password=password\n",
    "               \n",
    "    \n",
    "abc=[1,2,4,6,7,] \n",
    "user1=User(abc,\"abc@gmail.com\",\"abc@123\")\n",
    "print(user1)\n",
    "user2=User(\"xyz\",\"xyz@gmail.comm\",\"xyz@123\")\n",
    "print(user2)\n",
    "for i in range(10):\n",
    "    print(user1.username)"
   ]
  },
  {
   "cell_type": "code",
   "execution_count": 19,
   "metadata": {},
   "outputs": [
    {
     "name": "stdout",
     "output_type": "stream",
     "text": [
      "abc\n"
     ]
    }
   ],
   "source": [
    "class User:\n",
    "    def signup(s,username,email,password):\n",
    "        s.username=username\n",
    "        s.email=email\n",
    "        s.password=password\n",
    "user1=User()             \n",
    "user1.signup(\"abc\",\"abc@gmail.com\",\"abc@123\")\n",
    "# user1.signup(\"abc\",\"\")\n",
    "print(user1.username)"
   ]
  },
  {
   "cell_type": "code",
   "execution_count": 94,
   "metadata": {},
   "outputs": [
    {
     "name": "stdout",
     "output_type": "stream",
     "text": [
      "passed\n"
     ]
    }
   ],
   "source": [
    "class student:\n",
    "    def __init__(self,Name,rollNo,studentClass,marks,email):\n",
    "        self.Name=Name\n",
    "        self.rollNo=rollNo\n",
    "        self.studentClass=studentClass\n",
    "        self.marks=marks\n",
    "        self.email=email   \n",
    "        self.totalMarks=0\n",
    "        self.percentage=0\n",
    "\n",
    "        \n",
    "  \n",
    "    def result(self):\n",
    "        for i,j in  self.marks.items():\n",
    "            self.totalMarks=self.totalMarks+j\n",
    "        self.percentage=(self.totalMarks*500)/100\n",
    "        if self.percentage>40:\n",
    "            print(\"passed\")\n",
    "                  \n",
    "    \n",
    "                      \n",
    "l=[]\n",
    "marks={\"Ds\":90,\"daa\":30,\"softskill\":85,\"python\":90,\"oop\":80}\n",
    "obj=student(\"abh\",3311,\"11th\",marks,\"123@gmail.com\")\n",
    "obj.marks\n",
    "obj.result()\n"
   ]
  },
  {
   "cell_type": "code",
   "execution_count": 83,
   "metadata": {},
   "outputs": [
    {
     "name": "stdout",
     "output_type": "stream",
     "text": [
      "FGR ds\n",
      "FGR daa\n",
      "FGR softskill\n",
      "FGR python\n",
      "FGR oop\n"
     ]
    }
   ],
   "source": [
    "marks={'ds':90,\"daa\":70,\"softskill\":85,\"python\":90,\"oop\":80}\n",
    "for i,j in marks.items():\n",
    "    if j>50:\n",
    "        print(\"FGR\",i)"
   ]
  },
  {
   "cell_type": "code",
   "execution_count": 196,
   "metadata": {},
   "outputs": [
    {
     "name": "stdout",
     "output_type": "stream",
     "text": [
      "151\n",
      "30.2\n",
      "Neha failed\n",
      "______________________________________________________________________\n",
      "300\n",
      "60.0\n",
      "Aniket passed\n",
      "______________________________________________________________________\n",
      "399\n",
      "79.8\n",
      "Anika passed\n",
      "______________________________________________________________________\n",
      "368\n",
      "73.6\n",
      "Karan passed\n",
      "______________________________________________________________________\n",
      "374\n",
      "74.8\n",
      "payal passed\n",
      "______________________________________________________________________\n",
      "\n",
      "Failed student are:-\n",
      "\n",
      "name      : Neha\n",
      "rollNo    : 111\n",
      "Class     : 11th\n",
      "email     : std1@gmail.com\n",
      "marks     : {'python': 30, 'Ds': 50, 'oop': 11, 'maths': 40, 'ss': 20}\n",
      "totalMarks: 151\n",
      "percentage: 30.2 %\n",
      "\n",
      "______________________________________________________________________\n",
      "None\n",
      "\n",
      "Top performers are:-\n",
      "\n",
      "name      : Anika\n",
      "rollNo    : 111\n",
      "Class     : 11th\n",
      "email     : std3@gmail.com\n",
      "marks     : {'python': 90, 'Ds': 74, 'oop': 65, 'maths': 80, 'ss': 90}\n",
      "totalMarks: 399\n",
      "percentage: 79.8 %\n",
      "\n",
      "______________________________________________________________________\n",
      "None\n",
      "name      : Karan\n",
      "rollNo    : 111\n",
      "Class     : 11th\n",
      "email     : std4@gmail.com\n",
      "marks     : {'python': 60, 'Ds': 90, 'oop': 50, 'maths': 80, 'ss': 88}\n",
      "totalMarks: 368\n",
      "percentage: 73.6 %\n",
      "\n",
      "______________________________________________________________________\n",
      "None\n",
      "name      : payal\n",
      "rollNo    : 111\n",
      "Class     : 11th\n",
      "email     : std5@gmail.com\n",
      "marks     : {'python': 99, 'Ds': 80, 'oop': 70, 'maths': 45, 'ss': 80}\n",
      "totalMarks: 374\n",
      "percentage: 74.8 %\n",
      "\n",
      "______________________________________________________________________\n",
      "None\n"
     ]
    }
   ],
   "source": [
    "class Student:\n",
    "    def __init__(self,Name,rollNo,studentClass,marks,email):\n",
    "        self.Name=Name\n",
    "        self.rollNo=rollNo\n",
    "        self.studentClass=studentClass\n",
    "        self.marks=marks\n",
    "        self.email=email   \n",
    "        self.totalMarks=0\n",
    "        self.percentage=0\n",
    "        \n",
    "\n",
    "        \n",
    "  \n",
    "    def result(self):\n",
    "        for i,j in  self.marks.items():\n",
    "            self.totalMarks=self.totalMarks+j\n",
    "        print(self.totalMarks)\n",
    "        self.percentage=(self.totalMarks*100)/500\n",
    "        print(self.percentage)\n",
    "        \n",
    "        if self.percentage>40:\n",
    "            print(\"{} passed\".format(self.Name))\n",
    "        else:\n",
    "            print(\"{} failed\".format(self.Name))\n",
    "            self.result=\"Fail\"\n",
    "        print(\"_\"*70)\n",
    "\n",
    "        \n",
    "    def display(self):\n",
    "        print(\"name      :\",self.Name)\n",
    "        print(\"rollNo    :\",self.rollNo)\n",
    "        print(\"Class     :\",self.studentClass)\n",
    "        print(\"email     :\",self.email)\n",
    "        print(\"marks     :\",self.marks)\n",
    "        print(\"totalMarks:\",self.totalMarks)\n",
    "        print(\"percentage:\",self.percentage,\"%\")\n",
    "        print()\n",
    "        print(\"_\"* 70)\n",
    "        \n",
    "        \n",
    "stud1 = Student(\"Neha\",111,\"11th\",{\"python\":30,\"Ds\":50,\"oop\":11,\"maths\":40,\"ss\":20},\"std1@gmail.com\")   \n",
    "stud2 =Student(\"Aniket\",111,\"11th\",{\"python\":30,\"Ds\":80,\"oop\":50,\"maths\":60,\"ss\":80},\"std2@gmail.com\")\n",
    "stud3= Student(\"Anika\",111,\"11th\",{\"python\":90,\"Ds\":74,\"oop\":65,\"maths\":80,\"ss\":90},\"std3@gmail.com\")\n",
    "stud4 =Student(\"Karan\",111,\"11th\",{\"python\":60,\"Ds\":90,\"oop\":50,\"maths\":80,\"ss\":88},\"std4@gmail.com\")\n",
    "stud5 =Student(\"payal\",111,\"11th\",{\"python\":99,\"Ds\":80,\"oop\":70,\"maths\":45,\"ss\":80},\"std5@gmail.com\")\n",
    "\n",
    "\n",
    "\n",
    "\n",
    "std = [stud1,stud2,stud3,stud4,stud5]\n",
    "\n",
    "# print(\"press 1. for student  result\")\n",
    "# print(\"press 2. To see top performers\")\n",
    "# print(\"press 3. To see all passed students\")\n",
    "# print(\"press 3. to see all failed student\")\n",
    "# n=int(input())\n",
    "# if n==1:\n",
    "#     for obj  in std:\n",
    "#         obj.result()\n",
    "# elif n==2:\n",
    "#     top=[]\n",
    "#     for obj in std:\n",
    "#         top.append(obj.totalMarks)\n",
    "#     print(top)\n",
    "    \n",
    "# elif n==3:\n",
    "#     pass\n",
    "    \n",
    "for obj in std:\n",
    "    obj.result()\n",
    "    \n",
    "print()\n",
    "print(\"Failed student are:-\")\n",
    "print()\n",
    "\n",
    "for obj in std:\n",
    "    if obj.result == \"Fail\":\n",
    "        print(obj.display())\n",
    "        print()\n",
    "        \n",
    "\n",
    "\n",
    "t=[]        \n",
    "for obj in std:\n",
    "    t.append(obj.totalMarks)\n",
    "n=sorted(t)\n",
    "\n",
    "print(\"Top performers are:-\")\n",
    "print()\n",
    "\n",
    "for obj in std:\n",
    "    if obj.totalMarks >=n[2]:\n",
    "        print(obj.display())\n",
    "    "
   ]
  },
  {
   "cell_type": "code",
   "execution_count": 103,
   "metadata": {},
   "outputs": [
    {
     "name": "stdout",
     "output_type": "stream",
     "text": [
      "enter a n value:5\n",
      "abhi\n",
      "3\n",
      "abh\n",
      "5\n",
      "abhd\n",
      "6\n",
      "kh7\n",
      "6\n",
      "7\n",
      "7\n",
      "{'abhi': 3, 'abh': 5, 'abhd': 6, 'kh7': 6, '7': 7}\n"
     ]
    }
   ],
   "source": [
    "n = int(input(\"enter a n value:\"))\n",
    "d = {}\n",
    "\n",
    "for i in range(n):\n",
    "    keys = input() # here i have taken keys as strings\n",
    "    values = int(input()) # here i have taken values as integers\n",
    "    d[keys] = values\n",
    "print(d)"
   ]
  }
 ],
 "metadata": {
  "kernelspec": {
   "display_name": "Python 3",
   "language": "python",
   "name": "python3"
  },
  "language_info": {
   "codemirror_mode": {
    "name": "ipython",
    "version": 3
   },
   "file_extension": ".py",
   "mimetype": "text/x-python",
   "name": "python",
   "nbconvert_exporter": "python",
   "pygments_lexer": "ipython3",
   "version": "3.7.4"
  }
 },
 "nbformat": 4,
 "nbformat_minor": 2
}
