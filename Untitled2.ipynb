{
 "cells": [
  {
   "cell_type": "code",
   "execution_count": 14,
   "metadata": {},
   "outputs": [],
   "source": [
    "class Offer:\n",
    "    def __init__(self,o_id,min_qty,offer_price):\n",
    "        self.o_id = o_id\n",
    "        self.min_qty = min_qty\n",
    "        self.offer_price = offer_price\n",
    "\n",
    "class Product:\n",
    "    \n",
    "    products = []\n",
    "    \n",
    "    @classmethod\n",
    "    def add_obj(cls,obj):\n",
    "        cls.products.append(obj)\n",
    "        \n",
    "    def __init__(self,p_id,p_name,unit_price,stock,offer = None):\n",
    "        self.p_id = p_id\n",
    "        self.p_name = p_name\n",
    "        self.unit_price = unit_price\n",
    "        self.stock = stock\n",
    "        self.offer = offer\n",
    "        \n",
    "        Product.add_obj(self)\n",
    "        \n",
    "class Admin:\n",
    "    def __init__(self,name,username,email):\n",
    "        self.name = name\n",
    "        self.username = username\n",
    "        self.email = email\n",
    "        \n",
    "    def add_product(self,p_id,p_name,unit_price,stock,offer=None):\n",
    "        prod = Product(p_id,p_name,unit_price,stock,offer)\n",
    "        return prod\n",
    "    \n",
    "    def add_offer(self,o_id,min_qty,offer_price):\n",
    "        offer = Offer(o_id,min_qty,offer_price)\n",
    "        return offer\n",
    "    \n",
    "class System:\n",
    "    \n",
    "    @classmethod\n",
    "    def cal_bill(cls,cart):\n",
    "        total_bill = 0\n",
    "        for prod,qty in cart.items():\n",
    "            if prod.offer:\n",
    "#                 if qty % prod.offer.min_qty == 0:\n",
    "                    total_bill+= prod.offer.offer_price * (qty // prod.offer.min_qty) +qty % prod.offer.min_qty * prod.unit_price\n",
    "\n",
    "# A : 7\n",
    "    \n",
    "# 120 * 2 = 240 \n",
    "\n",
    "# 7%3 => 1 \n",
    "            else:\n",
    "                total_bill+= prod.unit_price*qty\n",
    "        return total_bill\n",
    "    \n",
    "class Customer:\n",
    "    def __init__(self,name,phone):\n",
    "        self.name = name\n",
    "        self.phone = phone\n",
    "        self.cart = {}\n",
    "        \n",
    "    def add_to_cart(self,product,qty):\n",
    "        if product not in self.cart:\n",
    "            self.cart.setdefault(product,qty)\n",
    "        else:\n",
    "            self.cart[product] += qty\n",
    "        \n",
    "    def view_cart(self):\n",
    "        return {key.p_name:value for key,value in self.cart.items()}\n",
    "    \n",
    "    def checkout(self):\n",
    "        return System.cal_bill(self.cart)\n"
   ]
  },
  {
   "cell_type": "code",
   "execution_count": 15,
   "metadata": {},
   "outputs": [
    {
     "name": "stdout",
     "output_type": "stream",
     "text": [
      "<__main__.Admin object at 0x7f986076aad0>\n"
     ]
    }
   ],
   "source": [
    "admin = Admin(\"ABC\",\"abc\",\"abc@xyz.com\")\n",
    "print(admin)"
   ]
  },
  {
   "cell_type": "code",
   "execution_count": 16,
   "metadata": {},
   "outputs": [],
   "source": [
    "\n",
    "off1 = Offer(101,3,120)\n",
    "off2 = Offer(102,2,45)"
   ]
  },
  {
   "cell_type": "code",
   "execution_count": 17,
   "metadata": {},
   "outputs": [],
   "source": [
    "p1 = admin.add_product(1,\"A\",50,100,off1)\n",
    "p2 = admin.add_product(2,\"B\",30,100,off2)\n",
    "p3= admin.add_product(3,\"C\",20,100)\n"
   ]
  },
  {
   "cell_type": "code",
   "execution_count": 18,
   "metadata": {},
   "outputs": [
    {
     "name": "stdout",
     "output_type": "stream",
     "text": [
      "{'o_id': 101, 'min_qty': 3, 'offer_price': 120}\n"
     ]
    }
   ],
   "source": [
    "print(p1.offer.__dict__)\n"
   ]
  },
  {
   "cell_type": "code",
   "execution_count": 19,
   "metadata": {},
   "outputs": [
    {
     "name": "stdout",
     "output_type": "stream",
     "text": [
      "[<__main__.Product object at 0x7f9860699350>, <__main__.Product object at 0x7f9860699a90>, <__main__.Product object at 0x7f9860699d90>]\n"
     ]
    }
   ],
   "source": [
    "print(Product.products)\n"
   ]
  },
  {
   "cell_type": "code",
   "execution_count": 20,
   "metadata": {},
   "outputs": [],
   "source": [
    "cust1 = Customer(\"AAA\",\"9123456779\")\n"
   ]
  },
  {
   "cell_type": "code",
   "execution_count": 21,
   "metadata": {},
   "outputs": [
    {
     "name": "stdout",
     "output_type": "stream",
     "text": [
      "{}\n"
     ]
    }
   ],
   "source": [
    "print(cust1.view_cart())\n"
   ]
  },
  {
   "cell_type": "code",
   "execution_count": 22,
   "metadata": {},
   "outputs": [],
   "source": [
    "cust1.add_to_cart(p1,7)\n",
    "cust1.add_to_cart(p2,10)\n",
    "cust1.add_to_cart(p3,2)\n",
    "cust1.add_to_cart(p1,15)"
   ]
  },
  {
   "cell_type": "code",
   "execution_count": 23,
   "metadata": {},
   "outputs": [
    {
     "name": "stdout",
     "output_type": "stream",
     "text": [
      "{'A': 22, 'B': 10, 'C': 2}\n"
     ]
    }
   ],
   "source": [
    "print(cust1.view_cart())\n"
   ]
  },
  {
   "cell_type": "code",
   "execution_count": 24,
   "metadata": {},
   "outputs": [
    {
     "name": "stdout",
     "output_type": "stream",
     "text": [
      "1155\n"
     ]
    }
   ],
   "source": [
    "print(cust1.checkout())\n"
   ]
  }
 ],
 "metadata": {
  "kernelspec": {
   "display_name": "Python 3",
   "language": "python",
   "name": "python3"
  },
  "language_info": {
   "codemirror_mode": {
    "name": "ipython",
    "version": 3
   },
   "file_extension": ".py",
   "mimetype": "text/x-python",
   "name": "python",
   "nbconvert_exporter": "python",
   "pygments_lexer": "ipython3",
   "version": "3.7.6"
  }
 },
 "nbformat": 4,
 "nbformat_minor": 4
}
